{
 "cells": [
  {
   "cell_type": "code",
   "execution_count": 1,
   "metadata": {
    "collapsed": true
   },
   "outputs": [],
   "source": [
    "import pandas as pd\n",
    "import numpy as np\n",
    "import matplotlib.pyplot as plt\n",
    "import seaborn as sb\n",
    "import gc\n",
    "from scipy.spatial.distance import pdist, squareform"
   ]
  },
  {
   "cell_type": "code",
   "execution_count": null,
   "metadata": {
    "scrolled": true
   },
   "outputs": [],
   "source": [
    "prop_data = pd.read_csv(\"./data/properties_2017.csv\")\n",
    "# prop_data"
   ]
  },
  {
   "cell_type": "code",
   "execution_count": null,
   "metadata": {
    "scrolled": true
   },
   "outputs": [],
   "source": [
    "train_data = pd.read_csv(\"./data/train_2017.csv\")\n",
    "# train_data"
   ]
  },
  {
   "cell_type": "code",
   "execution_count": null,
   "metadata": {
    "collapsed": true,
    "scrolled": true
   },
   "outputs": [],
   "source": [
    "# missing_val = prop_data.isnull().sum().reset_index()\n",
    "# missing_val.columns = ['column_name', 'missing_count']\n",
    "# missing_val = missing_val.loc[missing_val['missing_count']>0]\n",
    "# missing_val = missing_val.sort_values(by='missing_count')\n",
    "\n",
    "# missing_val['missing_ratio'] = missing_val[\"missing_count\"]/prop_data.shape[0]\n",
    "# missing_val = missing_val.loc[missing_val[\"missing_ratio\"]>0.6]\n",
    "# missing_val\n",
    "\n",
    "\n",
    "# ind = np.arange(missing_val.shape[0])\n",
    "# width = 0.9\n",
    "# fig, ax = plt.subplots(figsize=(12,18))\n",
    "# rects = ax.barh(ind, missing_val.missing_ratio.values, color='blue')\n",
    "# ax.set_yticks(ind)\n",
    "# ax.set_yticklabels(missing_val.column_name.values, rotation='horizontal')\n",
    "# ax.set_xlabel(\"Count of missing values\")\n",
    "# ax.set_title(\"Number of missing values in each column\")\n",
    "# plt.show()\n",
    "\n",
    "# del ind\n"
   ]
  },
  {
   "cell_type": "code",
   "execution_count": null,
   "metadata": {
    "collapsed": true
   },
   "outputs": [],
   "source": [
    "# prop_data.drop(missing_val.column_name.values, axis=1, inplace=True)"
   ]
  },
  {
   "cell_type": "code",
   "execution_count": null,
   "metadata": {
    "collapsed": true,
    "scrolled": true
   },
   "outputs": [],
   "source": [
    "# prop_data"
   ]
  },
  {
   "cell_type": "code",
   "execution_count": null,
   "metadata": {
    "collapsed": true
   },
   "outputs": [],
   "source": [
    "# prop_data_temp = prop_data.fillna(prop_data.mean(), )\n",
    "plt.plot(prop_data.groupby(\"regionidcounty\")[\"taxvaluedollarcnt\"].mean())\n",
    "plt.show()"
   ]
  },
  {
   "cell_type": "code",
   "execution_count": null,
   "metadata": {
    "collapsed": true
   },
   "outputs": [],
   "source": [
    "original = prop_data.copy()"
   ]
  },
  {
   "cell_type": "code",
   "execution_count": null,
   "metadata": {
    "collapsed": true
   },
   "outputs": [],
   "source": [
    "prop_data = original.copy()"
   ]
  },
  {
   "cell_type": "code",
   "execution_count": null,
   "metadata": {},
   "outputs": [],
   "source": [
    "# prop_data['actual_area'] = prop_data[['finishedfloor1squarefeet','calculatedfinishedsquarefeet','finishedsquarefeet12', 'finishedsquarefeet13',\n",
    "#                       'finishedsquarefeet15', 'finishedsquarefeet50', 'finishedsquarefeet6']].max(axis=1)\n",
    "\n",
    "\n",
    "prop_data.loc[(prop_data[\"heatingorsystemtypeid\"]==2.0) & (pd.isnull(prop_data[\"airconditioningtypeid\"])), \"airconditioningtypeid\"] = 1.0\n",
    "\n",
    "prop_data[\"airconditioningtypeid\"].fillna(0, inplace=True)\n",
    "prop_data[\"airconditioningtypeid\"] = prop_data[\"airconditioningtypeid\"].map({1:1,13:1,5:0,9:1,11:1,12:1,3:1})\n",
    "# prop_data['airconditioningtypeid'].value_counts()\n",
    "\n",
    "prop_data['actual_area'] = prop_data['calculatedfinishedsquarefeet']#.value_counts(dropna = False)\n",
    "prop_data['calculatedbathnbr'].fillna(prop_data['calculatedbathnbr'].median(),inplace = True)\n",
    "prop_data['bedroomcnt'].fillna(prop_data['bedroomcnt'].median(), inplace = True)\n",
    "\n",
    "prop_data['taxvaluedollarcnt'].fillna(prop_data[\"taxvaluedollarcnt\"].mean(), inplace=True)\n",
    "\n",
    "prop_data['actual_area'].replace(to_replace=1.0,value=np.nan,inplace=True)\n",
    "prop_data['actual_area'].fillna(prop_data['actual_area'].median(),inplace=True)\n",
    "\n",
    "prop_data['unitcnt'].fillna(1, inplace = True)\n",
    "\n",
    "prop_data['latitude'].fillna(prop_data['latitude'].median(),inplace = True)\n",
    "prop_data['longitude'].fillna(prop_data['longitude'].median(),inplace = True)\n",
    "\n",
    "prop_data['lotsizesquarefeet'].fillna(prop_data['lotsizesquarefeet'].median(), inplace = True)\n",
    "\n",
    "prop_data[\"poolcnt\"].fillna(0, inplace=True)\n",
    "prop_data[\"fireplacecnt\"].fillna(0, inplace=True)\n",
    "prop_data[\"hashottuborspa\"].fillna(0, inplace=True)\n",
    "prop_data['hashottuborspa'] = pd.to_numeric(prop_data['hashottuborspa'])\n",
    "\n",
    "prop_data[\"taxdelinquencyflag\"].fillna(-1, inplace=True)\n",
    "prop_data[\"taxdelinquencyflag\"] = prop_data[\"taxdelinquencyflag\"].map({'Y':1, -1:-1})\n",
    "\n",
    "prop_data.loc[(prop_data[\"heatingorsystemtypeid\"]==2.0) & (pd.isnull(prop_data[\"airconditioningtypeid\"])), \"airconditioningtypeid\"] = 1.0\n",
    "prop_data[\"airconditioningtypeid\"].fillna(-1, inplace=True)\n",
    "\n",
    "prop_data[\"buildingqualitytypeid\"].fillna(7, inplace=True)\n",
    "\n",
    "prop_data[\"yearbuilt\"].fillna(prop_data[\"yearbuilt\"].mean(), inplace=True)\n",
    "prop_data[\"age\"] = 2017 - prop_data[\"yearbuilt\"]\n",
    "#imputing garagecarcnt on basis of propertylandusetypeid\n",
    "#All the residential places have 1 or 2 garagecarcnt, hence using random filling for those values.\n",
    "\n",
    "prop_data.loc[(prop_data[\"propertylandusetypeid\"]==261) & (pd.isnull(prop_data[\"garagecarcnt\"])), \"garagecarcnt\"] = np.random.randint(1,3)\n",
    "prop_data.loc[(prop_data[\"propertylandusetypeid\"]==266) & (pd.isnull(prop_data[\"garagecarcnt\"])), \"garagecarcnt\"] = np.random.randint(1,3)\n",
    "prop_data[\"garagecarcnt\"].fillna(0, inplace=True)\n",
    "\n",
    "prop_data[\"taxamount\"].fillna(prop_data.taxamount.mean(), inplace=True)\n",
    "\n",
    "\n",
    "prop_data['longitude'] = prop_data['longitude'].abs()"
   ]
  },
  {
   "cell_type": "code",
   "execution_count": null,
   "metadata": {},
   "outputs": [],
   "source": [
    "prop_data['calculatedfinishedsquarefeet'].describe()"
   ]
  },
  {
   "cell_type": "markdown",
   "metadata": {},
   "source": [
    "### Normalizing the data"
   ]
  },
  {
   "cell_type": "code",
   "execution_count": null,
   "metadata": {
    "collapsed": true
   },
   "outputs": [],
   "source": [
    "\n",
    "colsList = [\"actual_area\",\n",
    "            \"poolcnt\",\n",
    "            \"latitude\",\n",
    "            \"longitude\",\n",
    "            \"unitcnt\",\n",
    "            \"lotsizesquarefeet\",\n",
    "            \"bedroomcnt\",\n",
    "            \"calculatedbathnbr\",\n",
    "            \"hashottuborspa\",\n",
    "            \"fireplacecnt\",\n",
    "            \"taxvaluedollarcnt\",\n",
    "            \"buildingqualitytypeid\",\n",
    "            \"garagecarcnt\",\n",
    "            \"age\",\n",
    "            \"taxamount\"]"
   ]
  },
  {
   "cell_type": "code",
   "execution_count": null,
   "metadata": {
    "collapsed": true,
    "scrolled": true
   },
   "outputs": [],
   "source": [
    "prop_data_ahp = prop_data[colsList]\n",
    "# prop_data_ahp"
   ]
  },
  {
   "cell_type": "code",
   "execution_count": null,
   "metadata": {},
   "outputs": [],
   "source": [
    "for col in prop_data_ahp.columns:\n",
    "    prop_data_ahp[col] = (prop_data_ahp[col] - prop_data_ahp[col].mean())/prop_data_ahp[col].std(ddof=0)"
   ]
  },
  {
   "cell_type": "code",
   "execution_count": null,
   "metadata": {
    "collapsed": true
   },
   "outputs": [],
   "source": [
    "# prop_data_ahp.isnull().sum()"
   ]
  },
  {
   "cell_type": "code",
   "execution_count": null,
   "metadata": {},
   "outputs": [],
   "source": [
    "# for cols in prop_data_ahp.columns.values:\n",
    "#     print prop_data_ahp[cols].value_counts(dropna=False)\n"
   ]
  },
  {
   "cell_type": "markdown",
   "metadata": {},
   "source": [
    "## Analytical Hierarchical Processing"
   ]
  },
  {
   "cell_type": "code",
   "execution_count": null,
   "metadata": {},
   "outputs": [],
   "source": [
    "rel_imp_matrix = pd.read_csv(\"./data/rel_imp_matrix.csv\", index_col=0)\n",
    "# rel_imp_matrix"
   ]
  },
  {
   "cell_type": "code",
   "execution_count": null,
   "metadata": {
    "collapsed": true
   },
   "outputs": [],
   "source": [
    "import fractions\n",
    "\n",
    "\n",
    "for col in rel_imp_matrix.columns.values:\n",
    "    temp_list = rel_imp_matrix[col].tolist()\n",
    "    rel_imp_matrix[col] = [float(fractions.Fraction(x))  for x in temp_list]\n",
    "    \n",
    "#     data = [float(fractions.Fraction(x)) for x in data]\n",
    "# rel_imp_matrix\n"
   ]
  },
  {
   "cell_type": "code",
   "execution_count": null,
   "metadata": {
    "collapsed": true
   },
   "outputs": [],
   "source": [
    "for col in rel_imp_matrix.columns.values:\n",
    "    rel_imp_matrix[col] /= rel_imp_matrix[col].sum()\n",
    "    \n",
    "# rel_imp_matrix"
   ]
  },
  {
   "cell_type": "code",
   "execution_count": null,
   "metadata": {
    "collapsed": true
   },
   "outputs": [],
   "source": [
    "rel_imp_matrix[\"row_sum\"] = rel_imp_matrix.sum(axis=1)\n",
    "\n",
    "rel_imp_matrix[\"score\"] = rel_imp_matrix[\"row_sum\"]/rel_imp_matrix.shape[0]\n",
    "\n",
    "rel_imp_matrix.to_csv(\"./data/final_score_matrix.csv\", index=False)\n",
    "# rel_imp_matrix"
   ]
  },
  {
   "cell_type": "code",
   "execution_count": null,
   "metadata": {
    "collapsed": true
   },
   "outputs": [],
   "source": [
    "ahp_column_score = rel_imp_matrix[\"score\"]"
   ]
  },
  {
   "cell_type": "code",
   "execution_count": null,
   "metadata": {},
   "outputs": [],
   "source": [
    "# prop_data_ahp.info()"
   ]
  },
  {
   "cell_type": "code",
   "execution_count": null,
   "metadata": {},
   "outputs": [],
   "source": [
    "# prop_data_ahp.drop('sum', axis=1,inplace=True)\n",
    "# prop_data_ahp.keys()"
   ]
  },
  {
   "cell_type": "markdown",
   "metadata": {},
   "source": [
    "# SAW"
   ]
  },
  {
   "cell_type": "code",
   "execution_count": null,
   "metadata": {},
   "outputs": [],
   "source": [
    "sum_series = pd.Series(0, index=prop_data_ahp.index,dtype='float32')\n",
    "\n",
    "for col in prop_data_ahp.columns:\n",
    "    sum_series = sum_series+ prop_data_ahp[col] * ahp_column_score[col]\n",
    "prop_data_ahp[\"sum\"] = sum_series.astype('float32')"
   ]
  },
  {
   "cell_type": "code",
   "execution_count": null,
   "metadata": {},
   "outputs": [],
   "source": [
    "# prop_data_ahp[\"sum\"]\n",
    "# prop_data_ahp[\"sum\"] = prop_data_ahp.sum(axis=1)\n",
    "    "
   ]
  },
  {
   "cell_type": "code",
   "execution_count": null,
   "metadata": {},
   "outputs": [],
   "source": [
    "prop_data_ahp[\"sum\"].describe()"
   ]
  },
  {
   "cell_type": "code",
   "execution_count": null,
   "metadata": {},
   "outputs": [],
   "source": [
    "prop_data_ahp.sort_values(by='sum', inplace=True)"
   ]
  },
  {
   "cell_type": "code",
   "execution_count": null,
   "metadata": {},
   "outputs": [],
   "source": [
    "prop_data_ahp.head(n=10)"
   ]
  },
  {
   "cell_type": "code",
   "execution_count": null,
   "metadata": {},
   "outputs": [],
   "source": [
    "prop_data_ahp.tail(n=10)"
   ]
  },
  {
   "cell_type": "code",
   "execution_count": null,
   "metadata": {},
   "outputs": [],
   "source": [
    "print prop_data[colsList].iloc[1252741],\"\\n\\n\"\n",
    "print prop_data[colsList].iloc[342941]"
   ]
  },
  {
   "cell_type": "code",
   "execution_count": null,
   "metadata": {},
   "outputs": [],
   "source": [
    "distance_cols  = [\"actual_area\",\n",
    "                \"poolcnt\",\n",
    "                \"latitude\",\n",
    "                \"longitude\",\n",
    "                \"unitcnt\",\n",
    "                \"lotsizesquarefeet\",\n",
    "                \"bedroomcnt\",\n",
    "                \"calculatedbathnbr\",\n",
    "                \"hashottuborspa\",\n",
    "                \"fireplacecnt\",\n",
    "                \"taxvaluedollarcnt\",\n",
    "                \"buildingqualitytypeid\",\n",
    "                \"garagecarcnt\",\n",
    "                \"age\",\n",
    "                \"taxamount\",\n",
    "                \"airconditioningtypeid\",\n",
    "                 \"regionidcounty\"]"
   ]
  },
  {
   "cell_type": "code",
   "execution_count": null,
   "metadata": {
    "collapsed": true
   },
   "outputs": [],
   "source": [
    "col_score = pd.read_csv('./data/column_scores_distance_metric.csv',index_col=0)"
   ]
  },
  {
   "cell_type": "code",
   "execution_count": null,
   "metadata": {},
   "outputs": [],
   "source": [
    "# # col_score = col_score['score']\n",
    "# for i in distance_cols:\n",
    "#     print i,\"  \",col_score.ix[i]['score']"
   ]
  },
  {
   "cell_type": "code",
   "execution_count": null,
   "metadata": {},
   "outputs": [],
   "source": [
    "prop_data_dist = pd.merge(prop_data,train_data,on='parcelid')\n",
    "prop_data_dist = prop_data_dist[distance_cols]\n",
    "prop_data_dist.fillna(3101,inplace=True)\n",
    "prop_data_dist['regionidcounty'] = prop_data_dist['regionidcounty'].map({3101:1,1286:0,2061:-1}) "
   ]
  },
  {
   "cell_type": "code",
   "execution_count": null,
   "metadata": {},
   "outputs": [],
   "source": [
    "\n",
    "# prop_data_dist['regionidcounty'].value_counts(dropna=False)"
   ]
  },
  {
   "cell_type": "code",
   "execution_count": null,
   "metadata": {},
   "outputs": [],
   "source": [
    "for col in prop_data_dist.columns:\n",
    "    prop_data_dist[col] = (prop_data_dist[col] - prop_data_dist[col].mean())/prop_data_dist[col].std(ddof=0)\n",
    "# prop_data_dist['airconditioningtypeid'] = (prop_data['airconditioningtypeid'] - prop_data['airconditioningtypeid'].mean())/prop_data['airconditioningtypeid'].std(ddof=0)"
   ]
  },
  {
   "cell_type": "code",
   "execution_count": null,
   "metadata": {
    "scrolled": true
   },
   "outputs": [],
   "source": [
    "for i in distance_cols:\n",
    "    if i == 'regionidcounty':\n",
    "        prop_data_dist[i] = prop_data_dist[i]*col_score.ix['samecounty']['score']\n",
    "        continue\n",
    "    prop_data_dist[i] = prop_data_dist[i]*col_score.ix[i]['score']"
   ]
  },
  {
   "cell_type": "code",
   "execution_count": 2,
   "metadata": {},
   "outputs": [
    {
     "ename": "NameError",
     "evalue": "name 'prop_data_dist' is not defined",
     "output_type": "error",
     "traceback": [
      "\u001b[1;31m---------------------------------------------------------------------------\u001b[0m",
      "\u001b[1;31mNameError\u001b[0m                                 Traceback (most recent call last)",
      "\u001b[1;32m<ipython-input-2-3b12bc3026fd>\u001b[0m in \u001b[0;36m<module>\u001b[1;34m()\u001b[0m\n\u001b[1;32m----> 1\u001b[1;33m \u001b[0mprop_data_dist\u001b[0m\u001b[1;33m.\u001b[0m\u001b[0mto_csv\u001b[0m\u001b[1;33m(\u001b[0m\u001b[1;34m'prop_data_dist.csv'\u001b[0m\u001b[1;33m,\u001b[0m\u001b[0mindex\u001b[0m\u001b[1;33m=\u001b[0m\u001b[0mFalse\u001b[0m\u001b[1;33m)\u001b[0m\u001b[1;33m\u001b[0m\u001b[0m\n\u001b[0m",
      "\u001b[1;31mNameError\u001b[0m: name 'prop_data_dist' is not defined"
     ]
    }
   ],
   "source": [
    "prop_data_dist.to_csv('prop_data_dist.csv',index=False)"
   ]
  },
  {
   "cell_type": "code",
   "execution_count": 14,
   "metadata": {},
   "outputs": [
    {
     "name": "stdout",
     "output_type": "stream",
     "text": [
      "float32\n",
      "float32\n",
      "float32\n",
      "float32\n",
      "float32\n",
      "float32\n",
      "float32\n",
      "float32\n",
      "float32\n",
      "float32\n",
      "float32\n",
      "float32\n",
      "float32\n",
      "float32\n",
      "float32\n",
      "float32\n",
      "float32\n"
     ]
    }
   ],
   "source": [
    "prop_data_dist = pd.read_csv(\"prop_data_dist.csv\")\n",
    "\n",
    "for i in prop_data_dist.columns:\n",
    "    prop_data_dist[i] = prop_data_dist[i].astype(\"float32\")\n",
    "    print prop_data_dist[i].dtype"
   ]
  },
  {
   "cell_type": "code",
   "execution_count": 17,
   "metadata": {},
   "outputs": [
    {
     "data": {
      "text/plain": [
       "array([6, 6, 6, ..., 7, 7, 7])"
      ]
     },
     "execution_count": 17,
     "metadata": {},
     "output_type": "execute_result"
    }
   ],
   "source": [
    "from sklearn.cluster import KMeans\n",
    "\n",
    "kmeans = KMeans( verbose=1, n_jobs=-1).fit(prop_data_dist)\n",
    "kmeans.labels_\n",
    "\n",
    "# result = pdist(prop_data_dist[:50000],metric='cityblock')"
   ]
  },
  {
   "cell_type": "code",
   "execution_count": 20,
   "metadata": {},
   "outputs": [
    {
     "ename": "IndexError",
     "evalue": "only integers, slices (`:`), ellipsis (`...`), numpy.newaxis (`None`) and integer or boolean arrays are valid indices",
     "output_type": "error",
     "traceback": [
      "\u001b[1;31m---------------------------------------------------------------------------\u001b[0m",
      "\u001b[1;31mIndexError\u001b[0m                                Traceback (most recent call last)",
      "\u001b[1;32m<ipython-input-20-9c0cc3668a08>\u001b[0m in \u001b[0;36m<module>\u001b[1;34m()\u001b[0m\n\u001b[1;32m----> 1\u001b[1;33m \u001b[0mprop_data_dist\u001b[0m\u001b[1;33m[\u001b[0m\u001b[1;33m(\u001b[0m\u001b[0mkmeans\u001b[0m\u001b[1;33m.\u001b[0m\u001b[0mlabels_\u001b[0m\u001b[1;33m[\u001b[0m\u001b[0mi\u001b[0m\u001b[1;33m]\u001b[0m \u001b[1;33m==\u001b[0m \u001b[1;36m6\u001b[0m\u001b[1;33m)\u001b[0m\u001b[1;33m]\u001b[0m\u001b[1;33m\u001b[0m\u001b[0m\n\u001b[0m",
      "\u001b[1;31mIndexError\u001b[0m: only integers, slices (`:`), ellipsis (`...`), numpy.newaxis (`None`) and integer or boolean arrays are valid indices"
     ]
    }
   ],
   "source": [
    "class_6 = []\n",
    "for i in range len(kmeans.labels):\n",
    "    class_6.append(kmeans.labels_[i] == 6)\n",
    "prop_data_dist[(kmeans.labels_[i] == 6)]"
   ]
  },
  {
   "cell_type": "code",
   "execution_count": null,
   "metadata": {
    "collapsed": true
   },
   "outputs": [],
   "source": []
  },
  {
   "cell_type": "code",
   "execution_count": 16,
   "metadata": {},
   "outputs": [
    {
     "ename": "MemoryError",
     "evalue": "",
     "output_type": "error",
     "traceback": [
      "\u001b[1;31m---------------------------------------------------------------------------\u001b[0m",
      "\u001b[1;31mMemoryError\u001b[0m                               Traceback (most recent call last)",
      "\u001b[1;32m<ipython-input-16-4d7dfa01e80d>\u001b[0m in \u001b[0;36m<module>\u001b[1;34m()\u001b[0m\n\u001b[1;32m----> 1\u001b[1;33m \u001b[0mresult\u001b[0m \u001b[1;33m=\u001b[0m \u001b[0msquareform\u001b[0m\u001b[1;33m(\u001b[0m\u001b[0mresult\u001b[0m\u001b[1;33m)\u001b[0m\u001b[1;33m\u001b[0m\u001b[0m\n\u001b[0m",
      "\u001b[1;32mC:\\ProgramData\\Anaconda2\\lib\\site-packages\\scipy\\spatial\\distance.py\u001b[0m in \u001b[0;36msquareform\u001b[1;34m(X, force, checks)\u001b[0m\n\u001b[0;32m   1585\u001b[0m \u001b[1;33m\u001b[0m\u001b[0m\n\u001b[0;32m   1586\u001b[0m         \u001b[1;31m# Allocate memory for the distance matrix.\u001b[0m\u001b[1;33m\u001b[0m\u001b[1;33m\u001b[0m\u001b[0m\n\u001b[1;32m-> 1587\u001b[1;33m         \u001b[0mM\u001b[0m \u001b[1;33m=\u001b[0m \u001b[0mnp\u001b[0m\u001b[1;33m.\u001b[0m\u001b[0mzeros\u001b[0m\u001b[1;33m(\u001b[0m\u001b[1;33m(\u001b[0m\u001b[0md\u001b[0m\u001b[1;33m,\u001b[0m \u001b[0md\u001b[0m\u001b[1;33m)\u001b[0m\u001b[1;33m,\u001b[0m \u001b[0mdtype\u001b[0m\u001b[1;33m=\u001b[0m\u001b[0mX\u001b[0m\u001b[1;33m.\u001b[0m\u001b[0mdtype\u001b[0m\u001b[1;33m)\u001b[0m\u001b[1;33m\u001b[0m\u001b[0m\n\u001b[0m\u001b[0;32m   1588\u001b[0m \u001b[1;33m\u001b[0m\u001b[0m\n\u001b[0;32m   1589\u001b[0m         \u001b[1;31m# Since the C code does not support striding using strides.\u001b[0m\u001b[1;33m\u001b[0m\u001b[1;33m\u001b[0m\u001b[0m\n",
      "\u001b[1;31mMemoryError\u001b[0m: "
     ]
    }
   ],
   "source": [
    "# result = squareform(result)"
   ]
  },
  {
   "cell_type": "code",
   "execution_count": null,
   "metadata": {},
   "outputs": [],
   "source": [
    "distance_matrix = np.ndarray(2985217,2985217)\n",
    "\n",
    "\n",
    "# for i in range(2985217):\n",
    "#     for j in range(2985217):\n",
    "#         dist = 0\n",
    "#         for k in distance_cols:\n",
    "#             dist+= "
   ]
  },
  {
   "cell_type": "code",
   "execution_count": null,
   "metadata": {
    "collapsed": true
   },
   "outputs": [],
   "source": [
    "# #imputing airconditioningtypeid, making some NaN to 1.0 where heatingorsystemtypeid == 2\n",
    "\n",
    "# prop_data.loc[(prop_data[\"heatingorsystemtypeid\"]==2.0) & (pd.isnull(prop_data[\"airconditioningtypeid\"])), \"airconditioningtypeid\"] = 1.0\n",
    "\n",
    "# prop_data[\"airconditioningtypeid\"].fillna(-1, inplace=True)\n",
    "# print prop_data[\"airconditioningtypeid\"].value_counts()\n",
    "\n",
    "# prop_data[[\"airconditioningtypeid\", \"heatingorsystemtypeid\"]].head()\n",
    "\n",
    "# duplicate_or_not_useful_cols = pd.Series(['calculatedbathnbr', 'assessmentyear', 'fullbathcnt', \n",
    "#                     'regionidneighborhood', 'propertyzoningdesc', 'censustractandblock'])#,'finishedsquarefeet12'])\n",
    "# prop_data.drop(duplicate_or_not_useful_cols, axis=1, inplace=True)\n",
    "\n",
    "# prop_data[\"buildingqualitytypeid\"].fillna(prop_data[\"buildingqualitytypeid\"].mean(), inplace=True)\n",
    "# prop_data[\"calculatedfinishedsquarefeet\"].interpolate(inplace=True)\n",
    "# prop_data[\"heatingorsystemtypeid\"].fillna(-1, inplace=True)\n",
    "# prop_data[\"lotsizesquarefeet\"].fillna(prop_data[\"lotsizesquarefeet\"].median(), inplace=True)\n",
    "# prop_data.drop([\"numberofstories\"], axis=1, inplace=True)\n",
    "# #removing propertycountylandusecode because it is not in interpretable format\n",
    "# prop_data.drop([\"propertycountylandusecode\"], axis=1, inplace=True)\n",
    "# prop_data[\"regionidcity\"].interpolate(inplace=True)\n",
    "# prop_data[\"regionidzip\"].interpolate(inplace=True)\n",
    "# prop_data[\"yearbuilt\"].fillna(prop_data[\"yearbuilt\"].mean(), inplace=True)\n",
    "\n",
    "# #impute structuretaxvaluedollarcnt, taxvaluedollarcnt, landtaxvaluedollarcnt, taxamount by interpolation\n",
    "# cols_to_interpolate = [\"structuretaxvaluedollarcnt\", \"taxvaluedollarcnt\", \"landtaxvaluedollarcnt\", \"taxamount\"]\n",
    "# for c in cols_to_interpolate:\n",
    "#     prop_data[c].interpolate(inplace=True)\n",
    "\n",
    "    \n",
    "# #imputing garagecarcnt on basis of propertylandusetypeid\n",
    "# #All the residential places have 1 or 2 garagecarcnt, hence using random filling for those values.\n",
    "\n",
    "# prop_data.loc[(prop_data[\"propertylandusetypeid\"]==261) & (pd.isnull(prop_data[\"garagecarcnt\"])), \"garagecarcnt\"] = np.random.randint(1,3)\n",
    "# prop_data.loc[(prop_data[\"propertylandusetypeid\"]==266) & (pd.isnull(prop_data[\"garagecarcnt\"])), \"garagecarcnt\"] = np.random.randint(1,3)\n",
    "\n",
    "# prop_data[\"garagecarcnt\"].fillna(-1, inplace=True)\n",
    "\n",
    "# prop_data[\"garagecarcnt\"].value_counts(dropna=False)\n",
    "\n",
    "# #imputing garagetotalsqft using the garagecarcnt\n",
    "\n",
    "# prop_data.loc[(prop_data[\"garagecarcnt\"]==-1) & (pd.isnull(prop_data[\"garagetotalsqft\"]) | (prop_data[\"garagetotalsqft\"] == 0)), \"garagetotalsqft\"] = -1\n",
    "# prop_data.loc[(prop_data[\"garagecarcnt\"]==1) & (pd.isnull(prop_data[\"garagetotalsqft\"]) | (prop_data[\"garagetotalsqft\"] == 0)), \"garagetotalsqft\"] = np.random.randint(180, 400)\n",
    "# prop_data.loc[(prop_data[\"garagecarcnt\"]==2) & (pd.isnull(prop_data[\"garagetotalsqft\"]) | (prop_data[\"garagetotalsqft\"] == 0)), \"garagetotalsqft\"] = np.random.randint(400, 720)\n",
    "# prop_data.loc[(prop_data[\"garagecarcnt\"]==3) & (pd.isnull(prop_data[\"garagetotalsqft\"]) | (prop_data[\"garagetotalsqft\"] == 0)), \"garagetotalsqft\"] = np.random.randint(720, 880)\n",
    "# prop_data.loc[(prop_data[\"garagecarcnt\"]==4) & (pd.isnull(prop_data[\"garagetotalsqft\"]) | (prop_data[\"garagetotalsqft\"] == 0)), \"garagetotalsqft\"] = np.random.randint(880, 1200)\n",
    "\n",
    "# #interpolate the remaining missing values\n",
    "# prop_data[\"garagetotalsqft\"].interpolate(inplace=True)\n",
    "\n",
    "# prop_data[\"garagetotalsqft\"].value_counts(dropna=False)\n",
    "\n",
    "\n",
    "# #imputing unitcnt using propertylandusetypeid\n",
    "            \n",
    "# prop_data.loc[(prop_data[\"propertylandusetypeid\"]==261) & pd.isnull(prop_data[\"unitcnt\"]), \"unitcnt\"] = 1\n",
    "# prop_data.loc[(prop_data[\"propertylandusetypeid\"]==266) & pd.isnull(prop_data[\"unitcnt\"]), \"unitcnt\"] = 1\n",
    "# prop_data.loc[(prop_data[\"propertylandusetypeid\"]==269) & pd.isnull(prop_data[\"unitcnt\"]), \"unitcnt\"] = 1\n",
    "\n",
    "# prop_data.loc[(prop_data[\"propertylandusetypeid\"]==246) & pd.isnull(prop_data[\"unitcnt\"]), \"unitcnt\"] = 2\n",
    "# prop_data.loc[(prop_data[\"propertylandusetypeid\"]==247) & pd.isnull(prop_data[\"unitcnt\"]), \"unitcnt\"] = 3\n",
    "# prop_data.loc[(prop_data[\"propertylandusetypeid\"]==248) & pd.isnull(prop_data[\"unitcnt\"]), \"unitcnt\"] = 4\n",
    "\n",
    "# prop_data[\"unitcnt\"].value_counts(dropna=False)"
   ]
  },
  {
   "cell_type": "markdown",
   "metadata": {},
   "source": [
    "## Distance Metric\n",
    "\n",
    "We will be using weighted Manhattan distance as a distance metric"
   ]
  },
  {
   "cell_type": "code",
   "execution_count": null,
   "metadata": {
    "collapsed": true
   },
   "outputs": [],
   "source": []
  }
 ],
 "metadata": {
  "kernelspec": {
   "display_name": "Python 2",
   "language": "python",
   "name": "python2"
  },
  "language_info": {
   "codemirror_mode": {
    "name": "ipython",
    "version": 2
   },
   "file_extension": ".py",
   "mimetype": "text/x-python",
   "name": "python",
   "nbconvert_exporter": "python",
   "pygments_lexer": "ipython2",
   "version": "2.7.13"
  }
 },
 "nbformat": 4,
 "nbformat_minor": 2
}
