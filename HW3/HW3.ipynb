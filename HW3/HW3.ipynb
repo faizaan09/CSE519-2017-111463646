{
 "cells": [
  {
   "cell_type": "code",
   "execution_count": 1,
   "metadata": {
    "collapsed": true
   },
   "outputs": [],
   "source": [
    "import pandas as pd\n",
    "import numpy as np\n",
    "import matplotlib.pyplot as plt\n",
    "import seaborn as sb\n",
    "import gc\n",
    "from scipy.spatial.distance import pdist, squareform"
   ]
  },
  {
   "cell_type": "code",
   "execution_count": 3,
   "metadata": {
    "scrolled": true
   },
   "outputs": [
    {
     "name": "stderr",
     "output_type": "stream",
     "text": [
      "/usr/local/lib/python2.7/dist-packages/IPython/core/interactiveshell.py:2718: DtypeWarning: Columns (49) have mixed types. Specify dtype option on import or set low_memory=False.\n",
      "  interactivity=interactivity, compiler=compiler, result=result)\n"
     ]
    }
   ],
   "source": [
    "prop_data = pd.read_csv(\"./data/properties_2017.csv\")\n",
    "# prop_data"
   ]
  },
  {
   "cell_type": "code",
   "execution_count": 9,
   "metadata": {
    "collapsed": true,
    "scrolled": true
   },
   "outputs": [],
   "source": [
    "train_data = pd.read_csv(\"./data/train_2017.csv\", parse_dates=[\"transactiondate\"])\n",
    "# train_data"
   ]
  },
  {
   "cell_type": "code",
   "execution_count": null,
   "metadata": {
    "collapsed": true,
    "scrolled": true
   },
   "outputs": [],
   "source": [
    "# missing_val = prop_data.isnull().sum().reset_index()\n",
    "# missing_val.columns = ['column_name', 'missing_count']\n",
    "# missing_val = missing_val.loc[missing_val['missing_count']>0]\n",
    "# missing_val = missing_val.sort_values(by='missing_count')\n",
    "\n",
    "# missing_val['missing_ratio'] = missing_val[\"missing_count\"]/prop_data.shape[0]\n",
    "# missing_val = missing_val.loc[missing_val[\"missing_ratio\"]>0.6]\n",
    "# missing_val\n",
    "\n",
    "\n",
    "# ind = np.arange(missing_val.shape[0])\n",
    "# width = 0.9\n",
    "# fig, ax = plt.subplots(figsize=(12,18))\n",
    "# rects = ax.barh(ind, missing_val.missing_ratio.values, color='blue')\n",
    "# ax.set_yticks(ind)\n",
    "# ax.set_yticklabels(missing_val.column_name.values, rotation='horizontal')\n",
    "# ax.set_xlabel(\"Count of missing values\")\n",
    "# ax.set_title(\"Number of missing values in each column\")\n",
    "# plt.show()\n",
    "\n",
    "# del ind\n"
   ]
  },
  {
   "cell_type": "code",
   "execution_count": null,
   "metadata": {
    "collapsed": true
   },
   "outputs": [],
   "source": [
    "# prop_data.drop(missing_val.column_name.values, axis=1, inplace=True)"
   ]
  },
  {
   "cell_type": "code",
   "execution_count": null,
   "metadata": {
    "collapsed": true,
    "scrolled": true
   },
   "outputs": [],
   "source": [
    "# prop_data"
   ]
  },
  {
   "cell_type": "code",
   "execution_count": null,
   "metadata": {
    "collapsed": true
   },
   "outputs": [],
   "source": [
    "# prop_data_temp = prop_data.fillna(prop_data.mean(), )\n",
    "plt.plot(prop_data.groupby(\"regionidcounty\")[\"taxvaluedollarcnt\"].mean())\n",
    "plt.show()"
   ]
  },
  {
   "cell_type": "code",
   "execution_count": null,
   "metadata": {
    "collapsed": true
   },
   "outputs": [],
   "source": [
    "original = prop_data.copy()"
   ]
  },
  {
   "cell_type": "code",
   "execution_count": null,
   "metadata": {
    "collapsed": true
   },
   "outputs": [],
   "source": [
    "prop_data = original.copy()"
   ]
  },
  {
   "cell_type": "code",
   "execution_count": 5,
   "metadata": {
    "collapsed": true
   },
   "outputs": [],
   "source": [
    "# prop_data['actual_area'] = prop_data[['finishedfloor1squarefeet','calculatedfinishedsquarefeet','finishedsquarefeet12', 'finishedsquarefeet13',\n",
    "#                       'finishedsquarefeet15', 'finishedsquarefeet50', 'finishedsquarefeet6']].max(axis=1)\n",
    "\n",
    "\n",
    "prop_data.loc[(prop_data[\"heatingorsystemtypeid\"]==2.0) & (pd.isnull(prop_data[\"airconditioningtypeid\"])), \"airconditioningtypeid\"] = 1.0\n",
    "\n",
    "prop_data[\"airconditioningtypeid\"].fillna(0, inplace=True)\n",
    "prop_data[\"airconditioningtypeid\"] = prop_data[\"airconditioningtypeid\"].map({1:1,13:1,5:0,9:1,11:1,12:1,3:1})\n",
    "# prop_data['airconditioningtypeid'].value_counts()\n",
    "\n",
    "prop_data['actual_area'] = prop_data['calculatedfinishedsquarefeet']#.value_counts(dropna = False)\n",
    "prop_data['calculatedbathnbr'].fillna(prop_data['calculatedbathnbr'].median(),inplace = True)\n",
    "prop_data['bedroomcnt'].fillna(prop_data['bedroomcnt'].median(), inplace = True)\n",
    "\n",
    "prop_data['taxvaluedollarcnt'].fillna(prop_data[\"taxvaluedollarcnt\"].mean(), inplace=True)\n",
    "\n",
    "prop_data['actual_area'].replace(to_replace=1.0,value=np.nan,inplace=True)\n",
    "prop_data['actual_area'].fillna(prop_data['actual_area'].median(),inplace=True)\n",
    "\n",
    "prop_data['unitcnt'].fillna(1, inplace = True)\n",
    "\n",
    "prop_data['latitude'].fillna(prop_data['latitude'].median(),inplace = True)\n",
    "prop_data['longitude'].fillna(prop_data['longitude'].median(),inplace = True)\n",
    "\n",
    "prop_data['lotsizesquarefeet'].fillna(prop_data['lotsizesquarefeet'].median(), inplace = True)\n",
    "\n",
    "prop_data[\"poolcnt\"].fillna(0, inplace=True)\n",
    "prop_data[\"fireplacecnt\"].fillna(0, inplace=True)\n",
    "prop_data[\"hashottuborspa\"].fillna(0, inplace=True)\n",
    "prop_data['hashottuborspa'] = pd.to_numeric(prop_data['hashottuborspa'])\n",
    "\n",
    "prop_data[\"taxdelinquencyflag\"].fillna(-1, inplace=True)\n",
    "prop_data[\"taxdelinquencyflag\"] = prop_data[\"taxdelinquencyflag\"].map({'Y':1, -1:-1})\n",
    "\n",
    "prop_data.loc[(prop_data[\"heatingorsystemtypeid\"]==2.0) & (pd.isnull(prop_data[\"airconditioningtypeid\"])), \"airconditioningtypeid\"] = 1.0\n",
    "prop_data[\"airconditioningtypeid\"].fillna(-1, inplace=True)\n",
    "\n",
    "prop_data[\"buildingqualitytypeid\"].fillna(7, inplace=True)\n",
    "\n",
    "prop_data[\"yearbuilt\"].fillna(prop_data[\"yearbuilt\"].mean(), inplace=True)\n",
    "prop_data[\"age\"] = 2017 - prop_data[\"yearbuilt\"]\n",
    "#imputing garagecarcnt on basis of propertylandusetypeid\n",
    "#All the residential places have 1 or 2 garagecarcnt, hence using random filling for those values.\n",
    "\n",
    "prop_data.loc[(prop_data[\"propertylandusetypeid\"]==261) & (pd.isnull(prop_data[\"garagecarcnt\"])), \"garagecarcnt\"] = np.random.randint(1,3)\n",
    "prop_data.loc[(prop_data[\"propertylandusetypeid\"]==266) & (pd.isnull(prop_data[\"garagecarcnt\"])), \"garagecarcnt\"] = np.random.randint(1,3)\n",
    "prop_data[\"garagecarcnt\"].fillna(0, inplace=True)\n",
    "\n",
    "prop_data[\"taxamount\"].fillna(prop_data.taxamount.mean(), inplace=True)\n",
    "\n",
    "\n",
    "prop_data['longitude'] = prop_data['longitude'].abs()"
   ]
  },
  {
   "cell_type": "code",
   "execution_count": null,
   "metadata": {
    "collapsed": true
   },
   "outputs": [],
   "source": [
    "prop_data['calculatedfinishedsquarefeet'].describe()"
   ]
  },
  {
   "cell_type": "markdown",
   "metadata": {},
   "source": [
    "### Normalizing the data"
   ]
  },
  {
   "cell_type": "code",
   "execution_count": null,
   "metadata": {
    "collapsed": true
   },
   "outputs": [],
   "source": [
    "\n",
    "colsList = [\"actual_area\",\n",
    "            \"poolcnt\",\n",
    "            \"latitude\",\n",
    "            \"longitude\",\n",
    "            \"unitcnt\",\n",
    "            \"lotsizesquarefeet\",\n",
    "            \"bedroomcnt\",\n",
    "            \"calculatedbathnbr\",\n",
    "            \"hashottuborspa\",\n",
    "            \"fireplacecnt\",\n",
    "            \"taxvaluedollarcnt\",\n",
    "            \"buildingqualitytypeid\",\n",
    "            \"garagecarcnt\",\n",
    "            \"age\",\n",
    "            \"taxamount\"]"
   ]
  },
  {
   "cell_type": "code",
   "execution_count": null,
   "metadata": {
    "collapsed": true,
    "scrolled": true
   },
   "outputs": [],
   "source": [
    "prop_data_ahp = prop_data[colsList]\n",
    "# prop_data_ahp"
   ]
  },
  {
   "cell_type": "code",
   "execution_count": 6,
   "metadata": {},
   "outputs": [
    {
     "ename": "NameError",
     "evalue": "name 'prop_data_ahp' is not defined",
     "output_type": "error",
     "traceback": [
      "\u001b[0;31m---------------------------------------------------------------------------\u001b[0m",
      "\u001b[0;31mNameError\u001b[0m                                 Traceback (most recent call last)",
      "\u001b[0;32m<ipython-input-6-cdfe1382d5cc>\u001b[0m in \u001b[0;36m<module>\u001b[0;34m()\u001b[0m\n\u001b[0;32m----> 1\u001b[0;31m \u001b[0;32mfor\u001b[0m \u001b[0mcol\u001b[0m \u001b[0;32min\u001b[0m \u001b[0mprop_data_ahp\u001b[0m\u001b[0;34m.\u001b[0m\u001b[0mcolumns\u001b[0m\u001b[0;34m:\u001b[0m\u001b[0;34m\u001b[0m\u001b[0m\n\u001b[0m\u001b[1;32m      2\u001b[0m     \u001b[0mprop_data_ahp\u001b[0m\u001b[0;34m[\u001b[0m\u001b[0mcol\u001b[0m\u001b[0;34m]\u001b[0m \u001b[0;34m=\u001b[0m \u001b[0;34m(\u001b[0m\u001b[0mprop_data_ahp\u001b[0m\u001b[0;34m[\u001b[0m\u001b[0mcol\u001b[0m\u001b[0;34m]\u001b[0m \u001b[0;34m-\u001b[0m \u001b[0mprop_data_ahp\u001b[0m\u001b[0;34m[\u001b[0m\u001b[0mcol\u001b[0m\u001b[0;34m]\u001b[0m\u001b[0;34m.\u001b[0m\u001b[0mmean\u001b[0m\u001b[0;34m(\u001b[0m\u001b[0;34m)\u001b[0m\u001b[0;34m)\u001b[0m\u001b[0;34m/\u001b[0m\u001b[0mprop_data_ahp\u001b[0m\u001b[0;34m[\u001b[0m\u001b[0mcol\u001b[0m\u001b[0;34m]\u001b[0m\u001b[0;34m.\u001b[0m\u001b[0mstd\u001b[0m\u001b[0;34m(\u001b[0m\u001b[0mddof\u001b[0m\u001b[0;34m=\u001b[0m\u001b[0;36m0\u001b[0m\u001b[0;34m)\u001b[0m\u001b[0;34m\u001b[0m\u001b[0m\n",
      "\u001b[0;31mNameError\u001b[0m: name 'prop_data_ahp' is not defined"
     ]
    }
   ],
   "source": [
    "for col in prop_data_ahp.columns:\n",
    "    prop_data_ahp[col] = (prop_data_ahp[col] - prop_data_ahp[col].mean())/prop_data_ahp[col].std(ddof=0)"
   ]
  },
  {
   "cell_type": "code",
   "execution_count": null,
   "metadata": {
    "collapsed": true
   },
   "outputs": [],
   "source": [
    "# prop_data_ahp.isnull().sum()"
   ]
  },
  {
   "cell_type": "code",
   "execution_count": null,
   "metadata": {
    "collapsed": true
   },
   "outputs": [],
   "source": [
    "# for cols in prop_data_ahp.columns.values:\n",
    "#     print prop_data_ahp[cols].value_counts(dropna=False)\n"
   ]
  },
  {
   "cell_type": "markdown",
   "metadata": {},
   "source": [
    "## Analytical Hierarchical Processing"
   ]
  },
  {
   "cell_type": "code",
   "execution_count": null,
   "metadata": {
    "collapsed": true
   },
   "outputs": [],
   "source": [
    "rel_imp_matrix = pd.read_csv(\"./data/rel_imp_matrix.csv\", index_col=0)\n",
    "# rel_imp_matrix"
   ]
  },
  {
   "cell_type": "code",
   "execution_count": null,
   "metadata": {
    "collapsed": true
   },
   "outputs": [],
   "source": [
    "import fractions\n",
    "\n",
    "\n",
    "for col in rel_imp_matrix.columns.values:\n",
    "    temp_list = rel_imp_matrix[col].tolist()\n",
    "    rel_imp_matrix[col] = [float(fractions.Fraction(x))  for x in temp_list]\n",
    "    \n",
    "#     data = [float(fractions.Fraction(x)) for x in data]\n",
    "# rel_imp_matrix\n"
   ]
  },
  {
   "cell_type": "code",
   "execution_count": null,
   "metadata": {
    "collapsed": true
   },
   "outputs": [],
   "source": [
    "for col in rel_imp_matrix.columns.values:\n",
    "    rel_imp_matrix[col] /= rel_imp_matrix[col].sum()\n",
    "    \n",
    "# rel_imp_matrix"
   ]
  },
  {
   "cell_type": "code",
   "execution_count": null,
   "metadata": {
    "collapsed": true
   },
   "outputs": [],
   "source": [
    "rel_imp_matrix[\"row_sum\"] = rel_imp_matrix.sum(axis=1)\n",
    "\n",
    "rel_imp_matrix[\"score\"] = rel_imp_matrix[\"row_sum\"]/rel_imp_matrix.shape[0]\n",
    "\n",
    "rel_imp_matrix.to_csv(\"./data/final_score_matrix.csv\", index=False)\n",
    "# rel_imp_matrix"
   ]
  },
  {
   "cell_type": "code",
   "execution_count": null,
   "metadata": {
    "collapsed": true
   },
   "outputs": [],
   "source": [
    "ahp_column_score = rel_imp_matrix[\"score\"]"
   ]
  },
  {
   "cell_type": "code",
   "execution_count": null,
   "metadata": {
    "collapsed": true
   },
   "outputs": [],
   "source": [
    "# prop_data_ahp.info()"
   ]
  },
  {
   "cell_type": "code",
   "execution_count": null,
   "metadata": {
    "collapsed": true
   },
   "outputs": [],
   "source": [
    "# prop_data_ahp.drop('sum', axis=1,inplace=True)\n",
    "# prop_data_ahp.keys()"
   ]
  },
  {
   "cell_type": "markdown",
   "metadata": {},
   "source": [
    "# SAW"
   ]
  },
  {
   "cell_type": "code",
   "execution_count": null,
   "metadata": {
    "collapsed": true
   },
   "outputs": [],
   "source": [
    "sum_series = pd.Series(0, index=prop_data_ahp.index,dtype='float32')\n",
    "\n",
    "for col in prop_data_ahp.columns:\n",
    "    sum_series = sum_series+ prop_data_ahp[col] * ahp_column_score[col]\n",
    "prop_data_ahp[\"sum\"] = sum_series.astype('float32')"
   ]
  },
  {
   "cell_type": "code",
   "execution_count": null,
   "metadata": {
    "collapsed": true
   },
   "outputs": [],
   "source": [
    "# prop_data_ahp[\"sum\"]\n",
    "# prop_data_ahp[\"sum\"] = prop_data_ahp.sum(axis=1)\n",
    "    "
   ]
  },
  {
   "cell_type": "code",
   "execution_count": null,
   "metadata": {
    "collapsed": true
   },
   "outputs": [],
   "source": [
    "prop_data_ahp[\"sum\"].describe()"
   ]
  },
  {
   "cell_type": "code",
   "execution_count": null,
   "metadata": {
    "collapsed": true
   },
   "outputs": [],
   "source": [
    "prop_data_ahp.sort_values(by='sum', inplace=True)"
   ]
  },
  {
   "cell_type": "code",
   "execution_count": null,
   "metadata": {
    "collapsed": true
   },
   "outputs": [],
   "source": [
    "prop_data_ahp.head(n=10)"
   ]
  },
  {
   "cell_type": "code",
   "execution_count": null,
   "metadata": {
    "collapsed": true
   },
   "outputs": [],
   "source": [
    "prop_data_ahp.tail(n=10)"
   ]
  },
  {
   "cell_type": "code",
   "execution_count": null,
   "metadata": {
    "collapsed": true
   },
   "outputs": [],
   "source": [
    "print prop_data[colsList].iloc[1252741],\"\\n\\n\"\n",
    "print prop_data[colsList].iloc[342941]"
   ]
  },
  {
   "cell_type": "code",
   "execution_count": 50,
   "metadata": {
    "collapsed": true
   },
   "outputs": [],
   "source": [
    "distance_cols  = [\"actual_area\",\n",
    "                \"poolcnt\",\n",
    "                \"latitude\",\n",
    "                \"longitude\",\n",
    "                \"unitcnt\",\n",
    "                \"lotsizesquarefeet\",\n",
    "                \"bedroomcnt\",\n",
    "                \"calculatedbathnbr\",\n",
    "                \"hashottuborspa\",\n",
    "                \"fireplacecnt\",\n",
    "                \"taxvaluedollarcnt\",\n",
    "                \"buildingqualitytypeid\",\n",
    "                \"garagecarcnt\",\n",
    "                \"age\",\n",
    "                \"taxamount\",\n",
    "                \"airconditioningtypeid\",\n",
    "                 \"regionidcounty\"]"
   ]
  },
  {
   "cell_type": "code",
   "execution_count": 60,
   "metadata": {
    "collapsed": true
   },
   "outputs": [],
   "source": [
    "col_score = pd.read_csv('./data/column_scores_distance_metric.csv',index_col=0)"
   ]
  },
  {
   "cell_type": "code",
   "execution_count": null,
   "metadata": {
    "collapsed": true
   },
   "outputs": [],
   "source": [
    "# # col_score = col_score['score']\n",
    "# for i in distance_cols:\n",
    "#     print i,\"  \",col_score.ix[i]['score']"
   ]
  },
  {
   "cell_type": "code",
   "execution_count": 57,
   "metadata": {
    "collapsed": true
   },
   "outputs": [],
   "source": [
    "train_data.drop_duplicates('parcelid',inplace=True)\n",
    "\n",
    "prop_data_dist = pd.merge(prop_data,train_data,on='parcelid')\n",
    "prop_data_dist = prop_data_dist[distance_cols]\n",
    "prop_data_dist.fillna(3101,inplace=True)\n",
    "prop_data_dist['regionidcounty'] = prop_data_dist['regionidcounty'].map({3101:1,1286:0,2061:-1}) "
   ]
  },
  {
   "cell_type": "code",
   "execution_count": null,
   "metadata": {
    "collapsed": true
   },
   "outputs": [],
   "source": [
    "\n",
    "# prop_data_dist['regionidcounty'].value_counts(dropna=False)"
   ]
  },
  {
   "cell_type": "code",
   "execution_count": 58,
   "metadata": {
    "collapsed": true
   },
   "outputs": [],
   "source": [
    "for col in prop_data_dist.columns:\n",
    "    prop_data_dist[col] = (prop_data_dist[col] - prop_data_dist[col].mean())/prop_data_dist[col].std(ddof=0)\n",
    "# prop_data_dist['airconditioningtypeid'] = (prop_data['airconditioningtypeid'] - prop_data['airconditioningtypeid'].mean())/prop_data['airconditioningtypeid'].std(ddof=0)"
   ]
  },
  {
   "cell_type": "code",
   "execution_count": 61,
   "metadata": {
    "scrolled": true
   },
   "outputs": [
    {
     "name": "stderr",
     "output_type": "stream",
     "text": [
      "C:\\ProgramData\\Anaconda2\\lib\\site-packages\\ipykernel_launcher.py:5: DeprecationWarning: \n",
      ".ix is deprecated. Please use\n",
      ".loc for label based indexing or\n",
      ".iloc for positional indexing\n",
      "\n",
      "See the documentation here:\n",
      "http://pandas.pydata.org/pandas-docs/stable/indexing.html#deprecate_ix\n",
      "  \"\"\"\n"
     ]
    }
   ],
   "source": [
    "for i in distance_cols:\n",
    "    if i == 'regionidcounty':\n",
    "        prop_data_dist[i] = prop_data_dist[i]*col_score.ix['samecounty']['score']\n",
    "        continue\n",
    "    prop_data_dist[i] = prop_data_dist[i]*col_score.ix[i]['score']"
   ]
  },
  {
   "cell_type": "code",
   "execution_count": 2,
   "metadata": {},
   "outputs": [
    {
     "ename": "NameError",
     "evalue": "name 'prop_data_dist' is not defined",
     "output_type": "error",
     "traceback": [
      "\u001b[1;31m---------------------------------------------------------------------------\u001b[0m",
      "\u001b[1;31mNameError\u001b[0m                                 Traceback (most recent call last)",
      "\u001b[1;32m<ipython-input-2-3b12bc3026fd>\u001b[0m in \u001b[0;36m<module>\u001b[1;34m()\u001b[0m\n\u001b[1;32m----> 1\u001b[1;33m \u001b[0mprop_data_dist\u001b[0m\u001b[1;33m.\u001b[0m\u001b[0mto_csv\u001b[0m\u001b[1;33m(\u001b[0m\u001b[1;34m'prop_data_dist.csv'\u001b[0m\u001b[1;33m,\u001b[0m\u001b[0mindex\u001b[0m\u001b[1;33m=\u001b[0m\u001b[0mFalse\u001b[0m\u001b[1;33m)\u001b[0m\u001b[1;33m\u001b[0m\u001b[0m\n\u001b[0m",
      "\u001b[1;31mNameError\u001b[0m: name 'prop_data_dist' is not defined"
     ]
    }
   ],
   "source": [
    "prop_data_dist.to_csv('prop_data_dist.csv',index=False)"
   ]
  },
  {
   "cell_type": "code",
   "execution_count": 40,
   "metadata": {
    "collapsed": true
   },
   "outputs": [],
   "source": [
    "prop_data_dist = pd.read_csv(\"prop_data_dist.csv\")\n",
    "\n",
    "# for i in prop_data_dist.columns:\n",
    "#     prop_data_dist[i] = prop_data_dist[i].astype(\"float32\")\n",
    "#     print prop_data_dist[i].dtype"
   ]
  },
  {
   "cell_type": "code",
   "execution_count": 63,
   "metadata": {
    "collapsed": true
   },
   "outputs": [],
   "source": [
    "# from sklearn.cluster import KMeans\n",
    "\n",
    "# kmeans = KMeans( verbose=1, n_jobs=-1).fit(prop_data_dist)\n",
    "# kmeans.labels_\n",
    "\n",
    "result = pdist(prop_data_dist[:20000],metric='cityblock')"
   ]
  },
  {
   "cell_type": "code",
   "execution_count": 42,
   "metadata": {
    "collapsed": true
   },
   "outputs": [],
   "source": [
    "class_6 = []\n",
    "for i in range(len(kmeans.labels_)):\n",
    "    class_6.append(kmeans.labels_[i] == 7)\n",
    "# prop_data_dist[class_6]"
   ]
  },
  {
   "cell_type": "code",
   "execution_count": 64,
   "metadata": {
    "collapsed": true
   },
   "outputs": [],
   "source": [
    "result = squareform(result)"
   ]
  },
  {
   "cell_type": "code",
   "execution_count": null,
   "metadata": {
    "collapsed": true
   },
   "outputs": [],
   "source": [
    "temp = pd.merge(prop_data,train_data,on='parcelid')\n",
    "\n",
    "temp = temp[distance_cols]"
   ]
  },
  {
   "cell_type": "code",
   "execution_count": 68,
   "metadata": {
    "collapsed": true
   },
   "outputs": [],
   "source": [
    "mini, minj = 0,1\n",
    "for i in range(result.shape[0]):\n",
    "    for j in range(i+1, result.shape[1]):\n",
    "        if result[i, j] < result[mini, minj] and result[i, j] != 0:\n",
    "            mini, minj  = i, j\n",
    "            "
   ]
  },
  {
   "cell_type": "code",
   "execution_count": 73,
   "metadata": {},
   "outputs": [
    {
     "name": "stdout",
     "output_type": "stream",
     "text": [
      "3136 13926 2.61775692388e-07\n"
     ]
    }
   ],
   "source": [
    "print mini, minj, result[mini, minj]"
   ]
  },
  {
   "cell_type": "code",
   "execution_count": null,
   "metadata": {
    "collapsed": true
   },
   "outputs": [],
   "source": [
    "print temp.iloc[mini]\n",
    "\n",
    "print temp.iloc[minj]"
   ]
  },
  {
   "cell_type": "code",
   "execution_count": 74,
   "metadata": {
    "collapsed": true
   },
   "outputs": [],
   "source": [
    "maxi, maxj = 0,1\n",
    "for i in range(result.shape[0]):\n",
    "    for j in range(i+1, result.shape[1]):\n",
    "        if result[i, j] > result[maxi, maxj]:\n",
    "            maxi, maxj  = i, j"
   ]
  },
  {
   "cell_type": "code",
   "execution_count": 75,
   "metadata": {},
   "outputs": [
    {
     "name": "stdout",
     "output_type": "stream",
     "text": [
      "7070 17158 49.0194472225\n"
     ]
    }
   ],
   "source": [
    "print maxi, maxj, result[maxi, maxj]"
   ]
  },
  {
   "cell_type": "code",
   "execution_count": 76,
   "metadata": {},
   "outputs": [
    {
     "name": "stdout",
     "output_type": "stream",
     "text": [
      "actual_area              8.790000e+03\n",
      "poolcnt                  1.000000e+00\n",
      "latitude                 3.408038e+07\n",
      "longitude                1.184174e+08\n",
      "unitcnt                  1.000000e+00\n",
      "lotsizesquarefeet        4.849700e+04\n",
      "bedroomcnt               7.000000e+00\n",
      "calculatedbathnbr        5.000000e+00\n",
      "hashottuborspa           0.000000e+00\n",
      "fireplacecnt             0.000000e+00\n",
      "taxvaluedollarcnt        2.385837e+07\n",
      "buildingqualitytypeid    1.100000e+01\n",
      "garagecarcnt             1.000000e+00\n",
      "age                      9.100000e+01\n",
      "taxamount                2.767978e+05\n",
      "airconditioningtypeid    1.000000e+00\n",
      "regionidcounty           3.101000e+03\n",
      "Name: 7070, dtype: float64\n",
      "actual_area              3.472000e+03\n",
      "poolcnt                  0.000000e+00\n",
      "latitude                 3.371964e+07\n",
      "longitude                1.180409e+08\n",
      "unitcnt                  2.370000e+02\n",
      "lotsizesquarefeet        6.314000e+03\n",
      "bedroomcnt               0.000000e+00\n",
      "calculatedbathnbr        2.000000e+00\n",
      "hashottuborspa           0.000000e+00\n",
      "fireplacecnt             0.000000e+00\n",
      "taxvaluedollarcnt        1.045707e+06\n",
      "buildingqualitytypeid    7.000000e+00\n",
      "garagecarcnt             0.000000e+00\n",
      "age                      4.000000e+01\n",
      "taxamount                1.198072e+04\n",
      "airconditioningtypeid   -1.000000e+00\n",
      "regionidcounty           1.286000e+03\n",
      "Name: 17158, dtype: float64\n"
     ]
    }
   ],
   "source": [
    "print temp.iloc[maxi]\n",
    "\n",
    "print temp.iloc[maxj]"
   ]
  },
  {
   "cell_type": "markdown",
   "metadata": {},
   "source": [
    "## Distance Metric\n",
    "\n",
    "We will be using weighted Manhattan distance as a distance metric"
   ]
  },
  {
   "cell_type": "markdown",
   "metadata": {},
   "source": [
    "## Implementing Neural Network"
   ]
  },
  {
   "cell_type": "code",
   "execution_count": 10,
   "metadata": {},
   "outputs": [
    {
     "name": "stderr",
     "output_type": "stream",
     "text": [
      "Using TensorFlow backend.\n"
     ]
    },
    {
     "ename": "ImportError",
     "evalue": "Traceback (most recent call last):\n  File \"/usr/local/lib/python2.7/dist-packages/tensorflow/python/pywrap_tensorflow.py\", line 41, in <module>\n    from tensorflow.python.pywrap_tensorflow_internal import *\n  File \"/usr/local/lib/python2.7/dist-packages/tensorflow/python/pywrap_tensorflow_internal.py\", line 28, in <module>\n    _pywrap_tensorflow_internal = swig_import_helper()\n  File \"/usr/local/lib/python2.7/dist-packages/tensorflow/python/pywrap_tensorflow_internal.py\", line 24, in swig_import_helper\n    _mod = imp.load_module('_pywrap_tensorflow_internal', fp, pathname, description)\nImportError: libnvidia-fatbinaryloader.so.375.66: cannot open shared object file: No such file or directory\n\n\nFailed to load the native TensorFlow runtime.\n\nSee https://www.tensorflow.org/install/install_sources#common_installation_problems\n\nfor some common reasons and solutions.  Include the entire stack trace\nabove this error message when asking for help.",
     "output_type": "error",
     "traceback": [
      "\u001b[0;31m---------------------------------------------------------------------------\u001b[0m",
      "\u001b[0;31mImportError\u001b[0m                               Traceback (most recent call last)",
      "\u001b[0;32m<ipython-input-10-3cd412c9a39e>\u001b[0m in \u001b[0;36m<module>\u001b[0;34m()\u001b[0m\n\u001b[1;32m      3\u001b[0m \u001b[0;32mimport\u001b[0m \u001b[0mpandas\u001b[0m \u001b[0;32mas\u001b[0m \u001b[0mpd\u001b[0m\u001b[0;34m\u001b[0m\u001b[0m\n\u001b[1;32m      4\u001b[0m \u001b[0;32mimport\u001b[0m \u001b[0mnumpy\u001b[0m \u001b[0;32mas\u001b[0m \u001b[0mnp\u001b[0m\u001b[0;34m\u001b[0m\u001b[0m\n\u001b[0;32m----> 5\u001b[0;31m \u001b[0;32mfrom\u001b[0m \u001b[0mkeras\u001b[0m\u001b[0;34m.\u001b[0m\u001b[0mmodels\u001b[0m \u001b[0;32mimport\u001b[0m \u001b[0mSequential\u001b[0m\u001b[0;34m\u001b[0m\u001b[0m\n\u001b[0m\u001b[1;32m      6\u001b[0m \u001b[0;32mfrom\u001b[0m \u001b[0mkeras\u001b[0m\u001b[0;34m.\u001b[0m\u001b[0mlayers\u001b[0m \u001b[0;32mimport\u001b[0m \u001b[0mDense\u001b[0m\u001b[0;34m\u001b[0m\u001b[0m\n\u001b[1;32m      7\u001b[0m \u001b[0;32mfrom\u001b[0m \u001b[0mkeras\u001b[0m\u001b[0;34m.\u001b[0m\u001b[0mlayers\u001b[0m \u001b[0;32mimport\u001b[0m \u001b[0mDropout\u001b[0m\u001b[0;34m,\u001b[0m \u001b[0mBatchNormalization\u001b[0m\u001b[0;34m\u001b[0m\u001b[0m\n",
      "\u001b[0;32m/usr/local/lib/python2.7/dist-packages/keras/__init__.py\u001b[0m in \u001b[0;36m<module>\u001b[0;34m()\u001b[0m\n\u001b[1;32m      1\u001b[0m \u001b[0;32mfrom\u001b[0m \u001b[0m__future__\u001b[0m \u001b[0;32mimport\u001b[0m \u001b[0mabsolute_import\u001b[0m\u001b[0;34m\u001b[0m\u001b[0m\n\u001b[1;32m      2\u001b[0m \u001b[0;34m\u001b[0m\u001b[0m\n\u001b[0;32m----> 3\u001b[0;31m \u001b[0;32mfrom\u001b[0m \u001b[0;34m.\u001b[0m \u001b[0;32mimport\u001b[0m \u001b[0mutils\u001b[0m\u001b[0;34m\u001b[0m\u001b[0m\n\u001b[0m\u001b[1;32m      4\u001b[0m \u001b[0;32mfrom\u001b[0m \u001b[0;34m.\u001b[0m \u001b[0;32mimport\u001b[0m \u001b[0mactivations\u001b[0m\u001b[0;34m\u001b[0m\u001b[0m\n\u001b[1;32m      5\u001b[0m \u001b[0;32mfrom\u001b[0m \u001b[0;34m.\u001b[0m \u001b[0;32mimport\u001b[0m \u001b[0mapplications\u001b[0m\u001b[0;34m\u001b[0m\u001b[0m\n",
      "\u001b[0;32m/usr/local/lib/python2.7/dist-packages/keras/utils/__init__.py\u001b[0m in \u001b[0;36m<module>\u001b[0;34m()\u001b[0m\n\u001b[1;32m      4\u001b[0m \u001b[0;32mfrom\u001b[0m \u001b[0;34m.\u001b[0m \u001b[0;32mimport\u001b[0m \u001b[0mdata_utils\u001b[0m\u001b[0;34m\u001b[0m\u001b[0m\n\u001b[1;32m      5\u001b[0m \u001b[0;32mfrom\u001b[0m \u001b[0;34m.\u001b[0m \u001b[0;32mimport\u001b[0m \u001b[0mio_utils\u001b[0m\u001b[0;34m\u001b[0m\u001b[0m\n\u001b[0;32m----> 6\u001b[0;31m \u001b[0;32mfrom\u001b[0m \u001b[0;34m.\u001b[0m \u001b[0;32mimport\u001b[0m \u001b[0mconv_utils\u001b[0m\u001b[0;34m\u001b[0m\u001b[0m\n\u001b[0m\u001b[1;32m      7\u001b[0m \u001b[0;34m\u001b[0m\u001b[0m\n\u001b[1;32m      8\u001b[0m \u001b[0;31m# Globally-importable utils.\u001b[0m\u001b[0;34m\u001b[0m\u001b[0;34m\u001b[0m\u001b[0m\n",
      "\u001b[0;32m/usr/local/lib/python2.7/dist-packages/keras/utils/conv_utils.py\u001b[0m in \u001b[0;36m<module>\u001b[0;34m()\u001b[0m\n\u001b[1;32m      1\u001b[0m \u001b[0;32mfrom\u001b[0m \u001b[0msix\u001b[0m\u001b[0;34m.\u001b[0m\u001b[0mmoves\u001b[0m \u001b[0;32mimport\u001b[0m \u001b[0mrange\u001b[0m\u001b[0;34m\u001b[0m\u001b[0m\n\u001b[1;32m      2\u001b[0m \u001b[0;32mimport\u001b[0m \u001b[0mnumpy\u001b[0m \u001b[0;32mas\u001b[0m \u001b[0mnp\u001b[0m\u001b[0;34m\u001b[0m\u001b[0m\n\u001b[0;32m----> 3\u001b[0;31m \u001b[0;32mfrom\u001b[0m \u001b[0;34m.\u001b[0m\u001b[0;34m.\u001b[0m \u001b[0;32mimport\u001b[0m \u001b[0mbackend\u001b[0m \u001b[0;32mas\u001b[0m \u001b[0mK\u001b[0m\u001b[0;34m\u001b[0m\u001b[0m\n\u001b[0m\u001b[1;32m      4\u001b[0m \u001b[0;34m\u001b[0m\u001b[0m\n\u001b[1;32m      5\u001b[0m \u001b[0;34m\u001b[0m\u001b[0m\n",
      "\u001b[0;32m/usr/local/lib/python2.7/dist-packages/keras/backend/__init__.py\u001b[0m in \u001b[0;36m<module>\u001b[0;34m()\u001b[0m\n\u001b[1;32m     81\u001b[0m \u001b[0;32melif\u001b[0m \u001b[0m_BACKEND\u001b[0m \u001b[0;34m==\u001b[0m \u001b[0;34m'tensorflow'\u001b[0m\u001b[0;34m:\u001b[0m\u001b[0;34m\u001b[0m\u001b[0m\n\u001b[1;32m     82\u001b[0m     \u001b[0msys\u001b[0m\u001b[0;34m.\u001b[0m\u001b[0mstderr\u001b[0m\u001b[0;34m.\u001b[0m\u001b[0mwrite\u001b[0m\u001b[0;34m(\u001b[0m\u001b[0;34m'Using TensorFlow backend.\\n'\u001b[0m\u001b[0;34m)\u001b[0m\u001b[0;34m\u001b[0m\u001b[0m\n\u001b[0;32m---> 83\u001b[0;31m     \u001b[0;32mfrom\u001b[0m \u001b[0;34m.\u001b[0m\u001b[0mtensorflow_backend\u001b[0m \u001b[0;32mimport\u001b[0m \u001b[0;34m*\u001b[0m\u001b[0;34m\u001b[0m\u001b[0m\n\u001b[0m\u001b[1;32m     84\u001b[0m \u001b[0;32melse\u001b[0m\u001b[0;34m:\u001b[0m\u001b[0;34m\u001b[0m\u001b[0m\n\u001b[1;32m     85\u001b[0m     \u001b[0;32mraise\u001b[0m \u001b[0mValueError\u001b[0m\u001b[0;34m(\u001b[0m\u001b[0;34m'Unknown backend: '\u001b[0m \u001b[0;34m+\u001b[0m \u001b[0mstr\u001b[0m\u001b[0;34m(\u001b[0m\u001b[0m_BACKEND\u001b[0m\u001b[0;34m)\u001b[0m\u001b[0;34m)\u001b[0m\u001b[0;34m\u001b[0m\u001b[0m\n",
      "\u001b[0;32m/usr/local/lib/python2.7/dist-packages/keras/backend/tensorflow_backend.py\u001b[0m in \u001b[0;36m<module>\u001b[0;34m()\u001b[0m\n\u001b[0;32m----> 1\u001b[0;31m \u001b[0;32mimport\u001b[0m \u001b[0mtensorflow\u001b[0m \u001b[0;32mas\u001b[0m \u001b[0mtf\u001b[0m\u001b[0;34m\u001b[0m\u001b[0m\n\u001b[0m\u001b[1;32m      2\u001b[0m \u001b[0;32mfrom\u001b[0m \u001b[0mtensorflow\u001b[0m\u001b[0;34m.\u001b[0m\u001b[0mpython\u001b[0m\u001b[0;34m.\u001b[0m\u001b[0mtraining\u001b[0m \u001b[0;32mimport\u001b[0m \u001b[0mmoving_averages\u001b[0m\u001b[0;34m\u001b[0m\u001b[0m\n\u001b[1;32m      3\u001b[0m \u001b[0;32mfrom\u001b[0m \u001b[0mtensorflow\u001b[0m\u001b[0;34m.\u001b[0m\u001b[0mpython\u001b[0m\u001b[0;34m.\u001b[0m\u001b[0mops\u001b[0m \u001b[0;32mimport\u001b[0m \u001b[0mtensor_array_ops\u001b[0m\u001b[0;34m\u001b[0m\u001b[0m\n\u001b[1;32m      4\u001b[0m \u001b[0;32mfrom\u001b[0m \u001b[0mtensorflow\u001b[0m\u001b[0;34m.\u001b[0m\u001b[0mpython\u001b[0m\u001b[0;34m.\u001b[0m\u001b[0mops\u001b[0m \u001b[0;32mimport\u001b[0m \u001b[0mcontrol_flow_ops\u001b[0m\u001b[0;34m\u001b[0m\u001b[0m\n\u001b[1;32m      5\u001b[0m \u001b[0;32mfrom\u001b[0m \u001b[0mtensorflow\u001b[0m\u001b[0;34m.\u001b[0m\u001b[0mpython\u001b[0m\u001b[0;34m.\u001b[0m\u001b[0mops\u001b[0m \u001b[0;32mimport\u001b[0m \u001b[0mfunctional_ops\u001b[0m\u001b[0;34m\u001b[0m\u001b[0m\n",
      "\u001b[0;32m/usr/local/lib/python2.7/dist-packages/tensorflow/__init__.py\u001b[0m in \u001b[0;36m<module>\u001b[0;34m()\u001b[0m\n\u001b[1;32m     22\u001b[0m \u001b[0;34m\u001b[0m\u001b[0m\n\u001b[1;32m     23\u001b[0m \u001b[0;31m# pylint: disable=wildcard-import\u001b[0m\u001b[0;34m\u001b[0m\u001b[0;34m\u001b[0m\u001b[0m\n\u001b[0;32m---> 24\u001b[0;31m \u001b[0;32mfrom\u001b[0m \u001b[0mtensorflow\u001b[0m\u001b[0;34m.\u001b[0m\u001b[0mpython\u001b[0m \u001b[0;32mimport\u001b[0m \u001b[0;34m*\u001b[0m\u001b[0;34m\u001b[0m\u001b[0m\n\u001b[0m\u001b[1;32m     25\u001b[0m \u001b[0;31m# pylint: enable=wildcard-import\u001b[0m\u001b[0;34m\u001b[0m\u001b[0;34m\u001b[0m\u001b[0m\n\u001b[1;32m     26\u001b[0m \u001b[0;34m\u001b[0m\u001b[0m\n",
      "\u001b[0;32m/usr/local/lib/python2.7/dist-packages/tensorflow/python/__init__.py\u001b[0m in \u001b[0;36m<module>\u001b[0;34m()\u001b[0m\n\u001b[1;32m     47\u001b[0m \u001b[0;32mimport\u001b[0m \u001b[0mnumpy\u001b[0m \u001b[0;32mas\u001b[0m \u001b[0mnp\u001b[0m\u001b[0;34m\u001b[0m\u001b[0m\n\u001b[1;32m     48\u001b[0m \u001b[0;34m\u001b[0m\u001b[0m\n\u001b[0;32m---> 49\u001b[0;31m \u001b[0;32mfrom\u001b[0m \u001b[0mtensorflow\u001b[0m\u001b[0;34m.\u001b[0m\u001b[0mpython\u001b[0m \u001b[0;32mimport\u001b[0m \u001b[0mpywrap_tensorflow\u001b[0m\u001b[0;34m\u001b[0m\u001b[0m\n\u001b[0m\u001b[1;32m     50\u001b[0m \u001b[0;34m\u001b[0m\u001b[0m\n\u001b[1;32m     51\u001b[0m \u001b[0;31m# Protocol buffers\u001b[0m\u001b[0;34m\u001b[0m\u001b[0;34m\u001b[0m\u001b[0m\n",
      "\u001b[0;32m/usr/local/lib/python2.7/dist-packages/tensorflow/python/pywrap_tensorflow.py\u001b[0m in \u001b[0;36m<module>\u001b[0;34m()\u001b[0m\n\u001b[1;32m     50\u001b[0m \u001b[0;32mfor\u001b[0m \u001b[0msome\u001b[0m \u001b[0mcommon\u001b[0m \u001b[0mreasons\u001b[0m \u001b[0;32mand\u001b[0m \u001b[0msolutions\u001b[0m\u001b[0;34m.\u001b[0m  \u001b[0mInclude\u001b[0m \u001b[0mthe\u001b[0m \u001b[0mentire\u001b[0m \u001b[0mstack\u001b[0m \u001b[0mtrace\u001b[0m\u001b[0;34m\u001b[0m\u001b[0m\n\u001b[1;32m     51\u001b[0m above this error message when asking for help.\"\"\" % traceback.format_exc()\n\u001b[0;32m---> 52\u001b[0;31m   \u001b[0;32mraise\u001b[0m \u001b[0mImportError\u001b[0m\u001b[0;34m(\u001b[0m\u001b[0mmsg\u001b[0m\u001b[0;34m)\u001b[0m\u001b[0;34m\u001b[0m\u001b[0m\n\u001b[0m\u001b[1;32m     53\u001b[0m \u001b[0;34m\u001b[0m\u001b[0m\n\u001b[1;32m     54\u001b[0m \u001b[0;31m# pylint: enable=wildcard-import,g-import-not-at-top,unused-import,line-too-long\u001b[0m\u001b[0;34m\u001b[0m\u001b[0;34m\u001b[0m\u001b[0m\n",
      "\u001b[0;31mImportError\u001b[0m: Traceback (most recent call last):\n  File \"/usr/local/lib/python2.7/dist-packages/tensorflow/python/pywrap_tensorflow.py\", line 41, in <module>\n    from tensorflow.python.pywrap_tensorflow_internal import *\n  File \"/usr/local/lib/python2.7/dist-packages/tensorflow/python/pywrap_tensorflow_internal.py\", line 28, in <module>\n    _pywrap_tensorflow_internal = swig_import_helper()\n  File \"/usr/local/lib/python2.7/dist-packages/tensorflow/python/pywrap_tensorflow_internal.py\", line 24, in swig_import_helper\n    _mod = imp.load_module('_pywrap_tensorflow_internal', fp, pathname, description)\nImportError: libnvidia-fatbinaryloader.so.375.66: cannot open shared object file: No such file or directory\n\n\nFailed to load the native TensorFlow runtime.\n\nSee https://www.tensorflow.org/install/install_sources#common_installation_problems\n\nfor some common reasons and solutions.  Include the entire stack trace\nabove this error message when asking for help."
     ]
    }
   ],
   "source": [
    "from sklearn.preprocessing import LabelEncoder\n",
    "import datetime as dt\n",
    "import pandas as pd\n",
    "import numpy as np\n",
    "from keras.models import Sequential\n",
    "from keras.layers import Dense\n",
    "from keras.layers import Dropout, BatchNormalization\n",
    "from keras.layers.advanced_activations import PReLU\n",
    "from keras.optimizers import Adam\n",
    "from keras.wrappers.scikit_learn import KerasRegressor\n",
    "from sklearn.preprocessing import StandardScaler\n",
    "from sklearn.preprocessing import Imputer\n",
    "\n",
    "\n",
    "print( \"\\n\\nProcessing data for Neural Network ...\")\n",
    "print('\\nLoading train, prop and sample data...')\n",
    "# train_data = pd.read_csv(\"./train_2016_v2.csv\", parse_dates=[\"transactiondate\"])\n",
    "train_data\n",
    "# prop = pd.read_csv('../input/properties_2016.csv')\n",
    "\n",
    "prop = prop_data#pd.read_csv(\"./train_data_clean_2.csv\")\n",
    "sample = pd.read_csv('./sample_submission.csv')\n",
    " \n",
    "print('Fitting Label Encoder on properties...')\n",
    "for c in prop.columns:\n",
    "    prop[c]=prop[c].fillna(-1)\n",
    "    if prop[c].dtype == 'object':\n",
    "        lbl = LabelEncoder()\n",
    "        lbl.fit(list(prop[c].values))\n",
    "        prop[c] = lbl.transform(list(prop[c].values))\n",
    "        \n",
    "print('Creating training set...')\n",
    "df_train = train_data.merge(prop, how='left', on='parcelid')\n",
    "\n",
    "df_train[\"transactiondate\"] = pd.to_datetime(df_train[\"transactiondate\"])\n",
    "df_train[\"transactiondate_year\"] = df_train[\"transactiondate\"].dt.year\n",
    "df_train[\"transactiondate_month\"] = df_train[\"transactiondate\"].dt.month\n",
    "df_train['transactiondate_quarter'] = df_train['transactiondate'].dt.quarter\n",
    "df_train[\"transactiondate\"] = df_train[\"transactiondate\"].dt.day\n",
    "\n",
    "# print('Creating x_train and y_train from df_train...' )\n",
    "x_train = df_train.drop(['parcelid', 'logerror', 'transactiondate'], axis=1)\n",
    "y_train = df_train[\"logerror\"]\n",
    "\n",
    "train_columns = x_train.columns\n",
    "\n",
    "for c in x_train.dtypes[x_train.dtypes == object].index.values:\n",
    "    x_train[c] = (x_train[c] == True)\n",
    "\n",
    "    \n",
    "print('Creating df_test...')\n",
    "sample['parcelid'] = sample['ParcelId']\n",
    "test_months = [k for k in sample.columns.values if k not in [\"parcelid\"]]\n",
    "\n",
    "print(\"Merging Sample with property data...\")\n",
    "df_test = sample.merge(prop, on='parcelid', how='left')\n",
    "\n",
    "\n",
    "# ## Preprocessing\n",
    "print(\"\\nPreprocessing neural network data...\")\n",
    "# imputer= Imputer()\n",
    "# imputer.fit(x_train.iloc[:, :])\n",
    "# x_train = imputer.transform(x_train.iloc[:, :])\n",
    "# imputer.fit(x_test.iloc[:, :])\n",
    "# x_test = imputer.transform(x_test.iloc[:, :])\n",
    "\n",
    "x_test.fillna(x_test.mean(), inplace=True)\n",
    "\n",
    "\n",
    "# sc = StandardScaler()\n",
    "# x_train = sc.fit_transform(x_train)\n",
    "# x_test = sc.transform(x_test)\n",
    "\n",
    "len_x=int(x_train.shape[1])\n",
    "print(\"len_x is:\",len_x)\n",
    "\n",
    "\n",
    "# Neural Network\n",
    "print(\"\\nSetting up neural network model...\")\n",
    "nn = Sequential()\n",
    "nn.add(Dense(units = 400 , kernel_initializer = 'normal', input_dim = len_x))\n",
    "nn.add(PReLU())\n",
    "nn.add(Dropout(.4))\n",
    "nn.add(Dense(units = 160 , kernel_initializer = 'normal'))\n",
    "nn.add(PReLU())\n",
    "nn.add(BatchNormalization())\n",
    "nn.add(Dropout(.63))\n",
    "nn.add(Dense(units = 64 , kernel_initializer = 'normal'))\n",
    "nn.add(PReLU())\n",
    "nn.add(BatchNormalization())\n",
    "nn.add(Dropout(.45))\n",
    "nn.add(Dense(units = 28, kernel_initializer = 'normal'))\n",
    "nn.add(PReLU())\n",
    "nn.add(BatchNormalization())\n",
    "nn.add(Dropout(.5))\n",
    "nn.add(Dense(1, kernel_initializer='normal'))\n",
    "nn.compile(loss='mae', optimizer=Adam(lr=4e-3, decay=1e-4))\n",
    "\n",
    "print(\"\\nFitting neural network model...\")\n",
    "nn.fit(np.array(x_train), np.array(y_train), batch_size = 32, epochs = 70, verbose=2)\n",
    "\n",
    "\n",
    "for date in test_months:\n",
    "\n",
    "\n",
    "\tdf_test[\"transactiondate\"] = pd.to_datetime(date)  # placeholder value for preliminary version\n",
    "\tdf_test[\"transactiondate_year\"] = df_test[\"transactiondate\"].dt.year\n",
    "\tdf_test[\"transactiondate_month\"] = df_test[\"transactiondate\"].dt.month\n",
    "\tdf_test['transactiondate_quarter'] = df_test['transactiondate'].dt.quarter\n",
    "\tdf_test[\"transactiondate\"] = df_test[\"transactiondate\"].dt.day     \n",
    "\tx_test = df_test[train_columns]\n",
    "\n",
    "\tprint('Shape of x_test:', x_test.shape)\n",
    "\tprint(\"Preparing x_test...\")\n",
    "\tfor c in x_test.dtypes[x_test.dtypes == object].index.values:\n",
    "\t    x_test[c] = (x_test[c] == True)\n",
    "\t  \n",
    "\tprint(\"\\nPredicting with neural network model...\")\n",
    "\t#print(\"x_test.shape:\",x_test.shape)\n",
    "\ty_pred_ann = nn.predict(x_test)\n",
    "\n",
    "\tprint( \"\\nPreparing results for write...\" )\n",
    "\tnn_pred = y_pred_ann.flatten()\n",
    "\tprint( \"Type of nn_pred is \", type(nn_pred) )\n",
    "\tprint( \"Shape of nn_pred is \", nn_pred.shape )\n",
    "\n",
    "\tprint( \"\\nNeural Network predictions:\" )\n",
    "\tprint( pd.DataFrame(nn_pred).head() )\n",
    "\n",
    "\n",
    "\n",
    "\n",
    "# In[6]:\n",
    "\n",
    "\n",
    "from datetime import datetime\n",
    "\n",
    "for date in test_months:\n",
    "    sample[date] = nn_pred\n",
    "\n",
    "sample[\"ParcelId\"] = sample[\"parcelid\"]\n",
    "sample.drop([\"parcelid\"], axis=1, inplace=True)\n",
    "\n",
    "print( \"\\nWriting results to disk ...\" )\n",
    "sample.to_csv('NN_sub{}.csv'.format(datetime.now().strftime('%Y%m%d_%H%M%S')), index=False)\n",
    "\n",
    "print( \"\\nFinished ...\")\n",
    "\n",
    "# Cleanup\n",
    "del train_data\n",
    "del prop\n",
    "del sample\n",
    "del x_train\n",
    "del x_test\n",
    "del df_train\n",
    "del df_test\n",
    "del y_pred_ann\n",
    "gc.collect()\n"
   ]
  },
  {
   "cell_type": "code",
   "execution_count": null,
   "metadata": {
    "collapsed": true
   },
   "outputs": [],
   "source": []
  }
 ],
 "metadata": {
  "kernelspec": {
   "display_name": "Python 2",
   "language": "python",
   "name": "python2"
  },
  "language_info": {
   "codemirror_mode": {
    "name": "ipython",
    "version": 2
   },
   "file_extension": ".py",
   "mimetype": "text/x-python",
   "name": "python",
   "nbconvert_exporter": "python",
   "pygments_lexer": "ipython2",
   "version": "2.7.12"
  }
 },
 "nbformat": 4,
 "nbformat_minor": 2
}
