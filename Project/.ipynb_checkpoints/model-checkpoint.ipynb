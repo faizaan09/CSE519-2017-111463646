{
 "cells": [
  {
   "cell_type": "code",
   "execution_count": 115,
   "metadata": {},
   "outputs": [],
   "source": [
    "import numpy as np\n",
    "import pandas as pd\n",
    "import seaborn as sbn\n",
    "import pickle as pkl\n",
    "import matplotlib.pyplot as plt\n",
    "from datetime import datetime\n",
    "from sklearn.model_selection import train_test_split\n",
    "from sklearn.linear_model import LinearRegression,LogisticRegression\n",
    "from sklearn.model_selection import GridSearchCV\n",
    "from sklearn.naive_bayes import GaussianNB\n",
    "from sklearn import linear_model\n",
    "from sklearn import svm\n",
    "from sklearn.neighbors import KNeighborsClassifier as KNN\n",
    "from sklearn.metrics import mean_squared_error, r2_score,mean_absolute_error,make_scorer\n",
    "from sklearn.preprocessing import MinMaxScaler,StandardScaler\n",
    "from sklearn import metrics\n",
    "from math import log\n",
    "from sklearn.ensemble import RandomForestClassifier\n",
    "\n",
    "# %pylab inline\n",
    "\n",
    "def plot_prob_timeline(data,label):\n",
    "    xtick = range(0, 91, 10)\n",
    "    fig = plt.figure()\n",
    "    plt.plot(data)\n",
    "    fig.suptitle(label, fontsize=20)\n",
    "    plt.ylim([0,1])\n",
    "    plt.xlabel('Time', fontsize=18)\n",
    "    plt.ylabel('Probability', fontsize=16)\n",
    "    plt.xticks(xtick)\n",
    "\n",
    "def eval_probs(y_prob,y_test, labels=[-1,0,1],show_plot=False):\n",
    "    \"\"\"\n",
    "    y_prob : predict_proba output of a model\n",
    "    labels : all unique labels in the classification\n",
    "    \"\"\"\n",
    "    vals = []\n",
    "    titles = {}\n",
    "    titles[-1] = \"Away Win\"\n",
    "    titles[0] = \"Draw\"\n",
    "    titles[1] = \"Home Win\"\n",
    "\n",
    "    y_prob = pd.DataFrame(y_prob, columns=[-1, 0, 1])\n",
    "    y_prob = y_prob.round(1)\n",
    "    y_prob['label'] = y_test.reset_index(drop=True)\n",
    "    slopes= []\n",
    "    total_error = 0\n",
    "    for ind, label in enumerate(labels):\n",
    "        vals = sorted(y_prob[label].unique())\n",
    "        \n",
    "        y_col = []\n",
    "        \n",
    "        \n",
    "        for i in vals:\n",
    "            tot_len = y_prob[(y_prob[label] == i)].shape[0]\n",
    "            matching_len = y_prob[(y_prob[label] == i) & (y_prob['label'] == label)].shape[0]\n",
    "            y_col.append(matching_len*1.0/tot_len)\n",
    "        \n",
    "        ind = 0\n",
    "        y_true = 0\n",
    "        for i in range(10):\n",
    "            if ind == len(y_col):\n",
    "                y = 0\n",
    "            else:\n",
    "                y = y_col[ind]\n",
    "                ind+=1\n",
    "            total_error+= (y_true - y)**2\n",
    "            y_true+=0.1\n",
    "\n",
    "        if show_plot:\n",
    "            plt.figure(figsize=(7,21))\n",
    "            plt.subplot(311+ind)\n",
    "            plt.bar(vals, y_col, width=0.05)\n",
    "            plt.title(titles[label], fontsize=16)\n",
    "            plt.xticks(np.arange(0.0, 1.1, 0.1), fontsize=8)\n",
    "            plt.yticks(np.arange(0.0, 1.1, 0.1),fontsize=8)\n",
    "            plt.show()\n",
    "    return total_error ** 0.5\n",
    "        \n",
    "    \n",
    "def save_model(model, model_name):\n",
    "    saved_models_root = \"./saved_models/\" \n",
    "    filename = saved_models_root + model_name + datetime.now().strftime('%m%d_%H%M%S') + \".pkl\"\n",
    "                                                 \n",
    "    with open(filename, 'wb') as outfile:\n",
    "        pkl.dump(model, outfile)"
   ]
  },
  {
   "cell_type": "code",
   "execution_count": 80,
   "metadata": {
    "collapsed": true
   },
   "outputs": [],
   "source": [
    "# with open(\"./data/train_data.pkl\") as infile:\n",
    "#     train_data = pkl.load(infile)\n",
    "\n",
    "with open(\"./data/train/train_data_with_team_attr.pkl\") as infile:\n",
    "    train_data = pkl.load(infile)"
   ]
  },
  {
   "cell_type": "code",
   "execution_count": 81,
   "metadata": {},
   "outputs": [],
   "source": [
    "train_data['goal_diff'] = train_data['H_Goal'] - train_data['A_Goal']"
   ]
  },
  {
   "cell_type": "code",
   "execution_count": 82,
   "metadata": {
    "collapsed": true
   },
   "outputs": [],
   "source": [
    "# train_data.columns.values\n",
    "temp_data = train_data.copy(deep = True)"
   ]
  },
  {
   "cell_type": "code",
   "execution_count": 83,
   "metadata": {
    "collapsed": true
   },
   "outputs": [],
   "source": [
    "columns = ['date', 'B365H', 'B365D', 'B365A', 'match_id', 'home_team', 'away_team', \n",
    "           'winner', 'minute', 'H_Goal', 'A_Goal','buildUpPlaySpeed_x', 'buildUpPlayPassing_x',\n",
    "       'chanceCreationPassing_x', 'chanceCreationCrossing_x',\n",
    "       'chanceCreationShooting_x', 'defencePressure_x',\n",
    "       'defenceAggression_x', 'defenceTeamWidth_x', 'buildUpPlaySpeed_y',\n",
    "       'buildUpPlayPassing_y', 'chanceCreationPassing_y',\n",
    "       'chanceCreationCrossing_y', 'chanceCreationShooting_y',\n",
    "       'defencePressure_y', 'defenceAggression_y', 'defenceTeamWidth_y','goal_diff']\n",
    "train_data = train_data[columns]"
   ]
  },
  {
   "cell_type": "code",
   "execution_count": 84,
   "metadata": {},
   "outputs": [
    {
     "data": {
      "text/plain": [
       "(152166, 28)"
      ]
     },
     "execution_count": 84,
     "metadata": {},
     "output_type": "execute_result"
    }
   ],
   "source": [
    "train_data.shape"
   ]
  },
  {
   "cell_type": "code",
   "execution_count": 99,
   "metadata": {
    "collapsed": true
   },
   "outputs": [],
   "source": [
    "# train_data.match_id.value_counts()"
   ]
  },
  {
   "cell_type": "code",
   "execution_count": 100,
   "metadata": {
    "collapsed": true
   },
   "outputs": [],
   "source": [
    "# train_data[(train_data['match_id']==1510566245714) & (train_data['minute']>=45)]"
   ]
  },
  {
   "cell_type": "code",
   "execution_count": 85,
   "metadata": {
    "collapsed": true
   },
   "outputs": [],
   "source": [
    "train_data.drop_duplicates(inplace=True, keep='first')"
   ]
  },
  {
   "cell_type": "code",
   "execution_count": 102,
   "metadata": {
    "collapsed": true
   },
   "outputs": [],
   "source": [
    "# train_data.match_id.value_counts()"
   ]
  },
  {
   "cell_type": "code",
   "execution_count": 86,
   "metadata": {
    "collapsed": true
   },
   "outputs": [],
   "source": [
    "X = train_data.drop(['winner', 'date', 'match_id', 'home_team', 'away_team'], axis=1)\n",
    "Y = train_data['winner']"
   ]
  },
  {
   "cell_type": "code",
   "execution_count": 87,
   "metadata": {
    "collapsed": true
   },
   "outputs": [],
   "source": [
    "X_train, X_test, y_train, y_test = train_test_split(X, Y, test_size=0.1)"
   ]
  },
  {
   "cell_type": "markdown",
   "metadata": {},
   "source": [
    "## Support Vector Classifier"
   ]
  },
  {
   "cell_type": "code",
   "execution_count": 92,
   "metadata": {},
   "outputs": [
    {
     "data": {
      "text/plain": [
       "SVC(C=1.0, cache_size=200, class_weight=None, coef0=0.0,\n",
       "  decision_function_shape='ovr', degree=3, gamma='auto', kernel='rbf',\n",
       "  max_iter=-1, probability=True, random_state=None, shrinking=True,\n",
       "  tol=0.001, verbose=False)"
      ]
     },
     "execution_count": 92,
     "metadata": {},
     "output_type": "execute_result"
    }
   ],
   "source": [
    "svc = svm.SVC(probability=True)\n",
    "svc.fit(X_train, y_train)\n",
    "\n",
    "y_pred = svc.predict(X_test)\n",
    "\n",
    "print metrics.accuracy_score(y_test, y_pred)\n",
    "\n",
    "y_prob = svc.predict_proba(X_test)"
   ]
  },
  {
   "cell_type": "markdown",
   "metadata": {},
   "source": [
    "## Logistic Regression"
   ]
  },
  {
   "cell_type": "code",
   "execution_count": 108,
   "metadata": {},
   "outputs": [
    {
     "name": "stdout",
     "output_type": "stream",
     "text": [
      "0.648627085965\n"
     ]
    }
   ],
   "source": [
    "lr = LogisticRegression(n_jobs=-1,solver='lbfgs')\n",
    "lr.fit(X_train,y_train)\n",
    "\n",
    "y_pred = lr.predict(X_test)\n",
    "\n",
    "print metrics.accuracy_score(y_test, y_pred)\n",
    "\n",
    "y_prob = lr.predict_proba(X_test)\n",
    "\n",
    "# eval_probs(y_prob, y_test, [-1,0,1])"
   ]
  },
  {
   "cell_type": "code",
   "execution_count": 116,
   "metadata": {
    "scrolled": false
   },
   "outputs": [
    {
     "name": "stdout",
     "output_type": "stream",
     "text": [
      "0.0265762302403\n",
      "2.00027158959\n",
      "2.01757280121\n"
     ]
    },
    {
     "data": {
      "text/plain": [
       "1.420412898144117"
      ]
     },
     "execution_count": 116,
     "metadata": {},
     "output_type": "execute_result"
    }
   ],
   "source": [
    "eval_probs(y_prob, y_test, [-1,0,1],show_plot=False)"
   ]
  },
  {
   "cell_type": "markdown",
   "metadata": {},
   "source": [
    "## Naive Bayes"
   ]
  },
  {
   "cell_type": "code",
   "execution_count": 91,
   "metadata": {},
   "outputs": [
    {
     "data": {
      "image/png": "[encoded data removed]",
      "text/plain": [
       "<matplotlib.figure.Figure at 0x5bc0b0b8>"
      ]
     },
     "metadata": {},
     "output_type": "display_data"
    },
    {
     "data": {
      "image/png": "[encoded data removed]",
      "text/plain": [
       "<matplotlib.figure.Figure at 0x1ffcc048>"
      ]
     },
     "metadata": {},
     "output_type": "display_data"
    },
    {
     "data": {
      "image/png": "[encoded data removed]",
      "text/plain": [
       "<matplotlib.figure.Figure at 0x173bba58>"
      ]
     },
     "metadata": {},
     "output_type": "display_data"
    },
    {
     "data": {
      "text/plain": [
       "1.135608440321689"
      ]
     },
     "execution_count": 91,
     "metadata": {},
     "output_type": "execute_result"
    }
   ],
   "source": [
    "nb = GaussianNB()\n",
    "nb.fit(X_train,y_train)\n",
    "\n",
    "y_pred = nb.predict(X_test)\n",
    "\n",
    "# print metrics.accuracy_score(y_test, y_pred)\n",
    "\n",
    "y_prob = nb.predict_proba(X_test)\n",
    "eval_probs(y_prob,y_test,show_plot=True)"
   ]
  },
  {
   "cell_type": "code",
   "execution_count": 148,
   "metadata": {
    "collapsed": true
   },
   "outputs": [],
   "source": [
    "temp_data = temp_data[columns]\n",
    "X = temp_data.drop(['winner'], axis=1)\n",
    "Y = temp_data['winner']\n",
    "X_trainA, X_testA, y_trainA, y_testA = train_test_split(X, Y, test_size=0.1,shuffle= False)\n"
   ]
  },
  {
   "cell_type": "code",
   "execution_count": 147,
   "metadata": {
    "collapsed": true
   },
   "outputs": [],
   "source": [
    "head = X_testA #1510605206930   1510602646114\n",
    "match_data = head.loc[head['match_id'] == 1510605206930]\n",
    "match_data=match_data.drop([  'date', 'match_id', 'home_team', 'away_team'], axis=1)\n",
    "y_prob= lr.predict_proba(match_data)\n"
   ]
  },
  {
   "cell_type": "code",
   "execution_count": 142,
   "metadata": {},
   "outputs": [
    {
     "data": {
      "image/png": "[encoded data removed]",
      "text/plain": [
       "<matplotlib.figure.Figure at 0x1abd42b0>"
      ]
     },
     "metadata": {},
     "output_type": "display_data"
    },
    {
     "data": {
      "image/png": "[encoded data removed]",
      "text/plain": [
       "<matplotlib.figure.Figure at 0x1abd4ba8>"
      ]
     },
     "metadata": {},
     "output_type": "display_data"
    },
    {
     "data": {
      "image/png": "[encoded data removed]",
      "text/plain": [
       "<matplotlib.figure.Figure at 0x19024be0>"
      ]
     },
     "metadata": {},
     "output_type": "display_data"
    }
   ],
   "source": [
    "plot_prob_timeline(y_prob[:,0],'Away Win Probability Timeline')\n",
    "plot_prob_timeline(y_prob[:,1],'Draw Probability Timeline')\n",
    "plot_prob_timeline(y_prob[:,2],'Home Win Probability Timeline')"
   ]
  },
  {
   "cell_type": "code",
   "execution_count": 132,
   "metadata": {
    "collapsed": true
   },
   "outputs": [],
   "source": [
    "# y_zzzzprob[:,0],'Away Win Probability Timeline'\n"
   ]
  },
  {
   "cell_type": "markdown",
   "metadata": {
    "collapsed": true
   },
   "source": [
    "## K nearest neighbours"
   ]
  },
  {
   "cell_type": "code",
   "execution_count": 99,
   "metadata": {
    "scrolled": false
   },
   "outputs": [
    {
     "name": "stdout",
     "output_type": "stream",
     "text": [
      "1.03145211542\n"
     ]
    }
   ],
   "source": [
    "\n",
    "for weight in ['uniform']: #, 'distance']:\n",
    "\n",
    "    neigh = KNN(n_neighbors=10, algorithm=, weights=weight, n_jobs=-1)\n",
    "    neigh.fit(X_train, y_train) \n",
    "    \n",
    "    y_pred = neigh.predict(X_test)\n",
    "\n",
    "#     print metrics.accuracy_score(y_test, y_pred)\n",
    "\n",
    "    y_prob = neigh.predict_proba(X_test)\n",
    "    print eval_probs(y_prob, y_test, [-1,0,1],show_plot=False)    \n",
    "    \n",
    "    \n",
    "#     save_model(neigh, \"KNN\"+weight)"
   ]
  },
  {
   "cell_type": "markdown",
   "metadata": {
    "collapsed": true
   },
   "source": [
    "## Random Forest Classifier"
   ]
  },
  {
   "cell_type": "code",
   "execution_count": 96,
   "metadata": {},
   "outputs": [
    {
     "name": "stdout",
     "output_type": "stream",
     "text": [
      "0.994880659531\n"
     ]
    }
   ],
   "source": [
    "rf = RandomForestClassifier(n_estimators=100,max_depth=20,n_jobs=-1)\n",
    "rf.fit(X_train,y_train)\n",
    "y_pred = rf.predict(X_test)\n",
    "\n",
    "print metrics.accuracy_score(y_test, y_pred)\n",
    "\n",
    "y_prob = rf.predict_proba(X_test)"
   ]
  },
  {
   "cell_type": "code",
   "execution_count": 103,
   "metadata": {},
   "outputs": [
    {
     "data": {
      "text/plain": [
       "1.0314521154202183"
      ]
     },
     "execution_count": 103,
     "metadata": {},
     "output_type": "execute_result"
    }
   ],
   "source": [
    "eval_probs(y_prob, y_test, [-1,0,1],show_plot=False)"
   ]
  },
  {
   "cell_type": "code",
   "execution_count": 102,
   "metadata": {},
   "outputs": [],
   "source": [
    "import sknn\n",
    "mlp = sknn.mlp.Classifier(2,layers, warning=None, parameters=None, random_state=None, learning_rule=u'sgd', learning_rate=0.01, learning_momentum=0.9, normalize=None, regularize=None, weight_decay=None, dropout_rate=None, batch_size=1, n_iter=None, n_stable=10, f_stable=0.001, valid_set=None, valid_size=0.0, loss_type=None, callback=None, debug=False, verbose=None)\n",
    "# X_test.columns.values"
   ]
  },
  {
   "cell_type": "code",
   "execution_count": null,
   "metadata": {
    "collapsed": true
   },
   "outputs": [],
   "source": []
  }
 ],
 "metadata": {
  "kernelspec": {
   "display_name": "Python 2",
   "language": "python",
   "name": "python2"
  },
  "language_info": {
   "codemirror_mode": {
    "name": "ipython",
    "version": 2
   },
   "file_extension": ".py",
   "mimetype": "text/x-python",
   "name": "python",
   "nbconvert_exporter": "python",
   "pygments_lexer": "ipython2",
   "version": "2.7.13"
  }
 },
 "nbformat": 4,
 "nbformat_minor": 2
}
