{
 "cells": [
  {
   "cell_type": "code",
   "execution_count": 97,
   "metadata": {
    "collapsed": true
   },
   "outputs": [],
   "source": [
    "import sqlite3\n",
    "import pandas as pd\n",
    "import numpy as np\n",
    "import matplotlib.pyplot as plt\n",
    "from IPython.display import display, HTML\n",
    "import pickle as pkl"
   ]
  },
  {
   "cell_type": "code",
   "execution_count": 21,
   "metadata": {},
   "outputs": [],
   "source": [
    "db_file = \"./data/database.sqlite\"\n",
    "try:\n",
    "    conn = sqlite3.connect(db_file)\n",
    "except Exception as e:\n",
    "    print(e)"
   ]
  },
  {
   "cell_type": "code",
   "execution_count": 22,
   "metadata": {
    "collapsed": true
   },
   "outputs": [],
   "source": [
    "cur  = conn.cursor()\n",
    "tables = cur.execute(\"SELECT name FROM sqlite_master WHERE type='table'\")\n",
    "# conn.tables"
   ]
  },
  {
   "cell_type": "code",
   "execution_count": 23,
   "metadata": {},
   "outputs": [
    {
     "data": {
      "text/plain": [
       "[(u'sqlite_sequence',),\n",
       " (u'Player_Attributes',),\n",
       " (u'Player',),\n",
       " (u'Match',),\n",
       " (u'League',),\n",
       " (u'Country',),\n",
       " (u'Team',),\n",
       " (u'Team_Attributes',)]"
      ]
     },
     "execution_count": 23,
     "metadata": {},
     "output_type": "execute_result"
    }
   ],
   "source": [
    "# tables.fetchall()"
   ]
  },
  {
   "cell_type": "code",
   "execution_count": 24,
   "metadata": {
    "collapsed": true
   },
   "outputs": [],
   "source": [
    "players = pd.read_sql_query(\"SELECT * from Player\", conn)\n",
    "match = pd.read_sql_query(\"SELECT * from Match\",conn)\n",
    "league = pd.read_sql_query(\"SELECT * from League\",conn)\n",
    "team = pd.read_sql_query(\"SELECT * from Team\",conn)\n",
    "player_attr = pd.read_sql_query(\"SELECT * from Player_Attributes\",conn)\n",
    "team_attr = pd.read_sql_query(\"SELECT * from Team_Attributes\",conn)"
   ]
  },
  {
   "cell_type": "code",
   "execution_count": 80,
   "metadata": {
    "collapsed": true
   },
   "outputs": [],
   "source": [
    "num_matches = g.merge(league,left_on='league_id',right_on='id')\n",
    "num_matches['no_of_matches'] = num_matches['count']\n",
    "num_matches = num_matches[['name', 'no_of_matches']]"
   ]
  },
  {
   "cell_type": "code",
   "execution_count": 82,
   "metadata": {},
   "outputs": [
    {
     "data": {
      "text/html": [
       "<div>\n",
       "<style>\n",
       "    .dataframe thead tr:only-child th {\n",
       "        text-align: right;\n",
       "    }\n",
       "\n",
       "    .dataframe thead th {\n",
       "        text-align: left;\n",
       "    }\n",
       "\n",
       "    .dataframe tbody tr th {\n",
       "        vertical-align: top;\n",
       "    }\n",
       "</style>\n",
       "<table border=\"1\" class=\"dataframe\">\n",
       "  <thead>\n",
       "    <tr style=\"text-align: right;\">\n",
       "      <th></th>\n",
       "      <th>name</th>\n",
       "      <th>no_of_matches</th>\n",
       "    </tr>\n",
       "  </thead>\n",
       "  <tbody>\n",
       "    <tr>\n",
       "      <th>0</th>\n",
       "      <td>Belgium Jupiler League</td>\n",
       "      <td>1728</td>\n",
       "    </tr>\n",
       "    <tr>\n",
       "      <th>1</th>\n",
       "      <td>England Premier League</td>\n",
       "      <td>3040</td>\n",
       "    </tr>\n",
       "    <tr>\n",
       "      <th>2</th>\n",
       "      <td>France Ligue 1</td>\n",
       "      <td>3040</td>\n",
       "    </tr>\n",
       "    <tr>\n",
       "      <th>3</th>\n",
       "      <td>Germany 1. Bundesliga</td>\n",
       "      <td>2448</td>\n",
       "    </tr>\n",
       "    <tr>\n",
       "      <th>4</th>\n",
       "      <td>Italy Serie A</td>\n",
       "      <td>3017</td>\n",
       "    </tr>\n",
       "    <tr>\n",
       "      <th>5</th>\n",
       "      <td>Netherlands Eredivisie</td>\n",
       "      <td>2448</td>\n",
       "    </tr>\n",
       "    <tr>\n",
       "      <th>6</th>\n",
       "      <td>Poland Ekstraklasa</td>\n",
       "      <td>1920</td>\n",
       "    </tr>\n",
       "    <tr>\n",
       "      <th>7</th>\n",
       "      <td>Portugal Liga ZON Sagres</td>\n",
       "      <td>2052</td>\n",
       "    </tr>\n",
       "    <tr>\n",
       "      <th>8</th>\n",
       "      <td>Scotland Premier League</td>\n",
       "      <td>1824</td>\n",
       "    </tr>\n",
       "    <tr>\n",
       "      <th>9</th>\n",
       "      <td>Spain LIGA BBVA</td>\n",
       "      <td>3040</td>\n",
       "    </tr>\n",
       "    <tr>\n",
       "      <th>10</th>\n",
       "      <td>Switzerland Super League</td>\n",
       "      <td>1422</td>\n",
       "    </tr>\n",
       "  </tbody>\n",
       "</table>\n",
       "</div>"
      ],
      "text/plain": [
       "                        name  no_of_matches\n",
       "0     Belgium Jupiler League           1728\n",
       "1     England Premier League           3040\n",
       "2             France Ligue 1           3040\n",
       "3      Germany 1. Bundesliga           2448\n",
       "4              Italy Serie A           3017\n",
       "5     Netherlands Eredivisie           2448\n",
       "6         Poland Ekstraklasa           1920\n",
       "7   Portugal Liga ZON Sagres           2052\n",
       "8    Scotland Premier League           1824\n",
       "9            Spain LIGA BBVA           3040\n",
       "10  Switzerland Super League           1422"
      ]
     },
     "execution_count": 82,
     "metadata": {},
     "output_type": "execute_result"
    }
   ],
   "source": [
    "num_matches"
   ]
  },
  {
   "cell_type": "code",
   "execution_count": 99,
   "metadata": {
    "collapsed": true
   },
   "outputs": [],
   "source": [
    "barca = team_attr.iloc[123]\n",
    "barca = barca.drop(['id','team_fifa_api_id','team_api_id','date'])\n",
    "barca = pd.DataFrame(barca)"
   ]
  },
  {
   "cell_type": "code",
   "execution_count": 103,
   "metadata": {
    "collapsed": true
   },
   "outputs": [],
   "source": [
    "# barca.to_html()"
   ]
  },
  {
   "cell_type": "markdown",
   "metadata": {},
   "source": [
    "<table border=\"1\" class=\"dataframe\">  <thead>    <tr style=\"text-align: right;\">      <th></th>      <th>FC Barcelona</th>    </tr>  </thead>  <tbody>    <tr>      <th>buildUpPlaySpeed</th>      <td>36</td>    </tr>    <tr>      <th>buildUpPlaySpeedClass</th>      <td>Balanced</td>    </tr>    <tr>      <th>buildUpPlayDribbling</th>      <td>35</td>    </tr>    <tr>      <th>buildUpPlayDribblingClass</th>      <td>Normal</td>    </tr>    <tr>      <th>buildUpPlayPassing</th>      <td>51</td>    </tr>    <tr>      <th>buildUpPlayPassingClass</th>      <td>Mixed</td>    </tr>    <tr>      <th>buildUpPlayPositioningClass</th>      <td>Free Form</td>    </tr>    <tr>      <th>chanceCreationPassing</th>      <td>36</td>    </tr>    <tr>      <th>chanceCreationPassingClass</th>      <td>Normal</td>    </tr>    <tr>      <th>chanceCreationCrossing</th>      <td>49</td>    </tr>    <tr>      <th>chanceCreationCrossingClass</th>      <td>Normal</td>    </tr>    <tr>      <th>chanceCreationShooting</th>      <td>56</td>    </tr>    <tr>      <th>chanceCreationShootingClass</th>      <td>Normal</td>    </tr>    <tr>      <th>chanceCreationPositioningClass</th>      <td>Free Form</td>    </tr>    <tr>      <th>defencePressure</th>      <td>61</td>    </tr>    <tr>      <th>defencePressureClass</th>      <td>Medium</td>    </tr>    <tr>      <th>defenceAggression</th>      <td>65</td>    </tr>    <tr>      <th>defenceAggressionClass</th>      <td>Press</td>    </tr>    <tr>      <th>defenceTeamWidth</th>      <td>65</td>    </tr>    <tr>      <th>defenceTeamWidthClass</th>      <td>Normal</td>    </tr>    <tr>      <th>defenceDefenderLineClass</th>      <td>Cover</td>    </tr>  </tbody></table>"
   ]
  },
  {
   "cell_type": "code",
   "execution_count": 27,
   "metadata": {
    "scrolled": true
   },
   "outputs": [
    {
     "data": {
      "text/html": [
       "<div>\n",
       "<style>\n",
       "    .dataframe thead tr:only-child th {\n",
       "        text-align: right;\n",
       "    }\n",
       "\n",
       "    .dataframe thead th {\n",
       "        text-align: left;\n",
       "    }\n",
       "\n",
       "    .dataframe tbody tr th {\n",
       "        vertical-align: top;\n",
       "    }\n",
       "</style>\n",
       "<table border=\"1\" class=\"dataframe\">\n",
       "  <thead>\n",
       "    <tr style=\"text-align: right;\">\n",
       "      <th></th>\n",
       "      <th>id</th>\n",
       "      <th>player_api_id</th>\n",
       "      <th>player_name</th>\n",
       "      <th>player_fifa_api_id</th>\n",
       "      <th>birthday</th>\n",
       "      <th>height</th>\n",
       "      <th>weight</th>\n",
       "    </tr>\n",
       "  </thead>\n",
       "  <tbody>\n",
       "    <tr>\n",
       "      <th>6169</th>\n",
       "      <td>6176</td>\n",
       "      <td>30981</td>\n",
       "      <td>Lionel Messi</td>\n",
       "      <td>158023</td>\n",
       "      <td>1987-06-24 00:00:00</td>\n",
       "      <td>170.18</td>\n",
       "      <td>159</td>\n",
       "    </tr>\n",
       "  </tbody>\n",
       "</table>\n",
       "</div>"
      ],
      "text/plain": [
       "        id  player_api_id   player_name  player_fifa_api_id  \\\n",
       "6169  6176          30981  Lionel Messi              158023   \n",
       "\n",
       "                 birthday  height  weight  \n",
       "6169  1987-06-24 00:00:00  170.18     159  "
      ]
     },
     "execution_count": 27,
     "metadata": {},
     "output_type": "execute_result"
    }
   ],
   "source": [
    "players[players['player_name'] == 'Lionel Messi']"
   ]
  },
  {
   "cell_type": "code",
   "execution_count": 34,
   "metadata": {
    "collapsed": true
   },
   "outputs": [],
   "source": [
    "# player_attr[player_attr['player_api_id'] == 30981]\n",
    "messi = player_attr.iloc[102482].drop(['id','player_fifa_api_id','player_api_id','date','preferred_foot','attacking_work_rate',\n",
    "                              'defensive_work_rate'])"
   ]
  },
  {
   "cell_type": "code",
   "execution_count": 107,
   "metadata": {},
   "outputs": [
    {
     "data": {
      "image/png": "[encoded data removed]",
      "text/plain": [
       "<matplotlib.figure.Figure at 0x337850f0>"
      ]
     },
     "metadata": {},
     "output_type": "display_data"
    }
   ],
   "source": [
    "messi.plot(kind='bar',figsize=(8,8))\n",
    "plt.savefig('messi.png',bbox_inches='tight')\n",
    "plt.show()"
   ]
  },
  {
   "cell_type": "code",
   "execution_count": 75,
   "metadata": {
    "scrolled": false
   },
   "outputs": [
    {
     "data": {
      "text/plain": [
       "(25979, 115)"
      ]
     },
     "execution_count": 75,
     "metadata": {},
     "output_type": "execute_result"
    }
   ],
   "source": [
    "match.shape"
   ]
  },
  {
   "cell_type": "code",
   "execution_count": 62,
   "metadata": {
    "collapsed": true
   },
   "outputs": [],
   "source": [
    "g = match.groupby('league_id').count()\n",
    "g['count'] = g['id']\n",
    "g = pd.DataFrame(g['count'])"
   ]
  },
  {
   "cell_type": "code",
   "execution_count": 87,
   "metadata": {
    "collapsed": true
   },
   "outputs": [],
   "source": [
    "# league"
   ]
  },
  {
   "cell_type": "code",
   "execution_count": 70,
   "metadata": {
    "collapsed": true
   },
   "outputs": [],
   "source": [
    "g['league_id'] = g.index"
   ]
  },
  {
   "cell_type": "code",
   "execution_count": 86,
   "metadata": {
    "scrolled": true
   },
   "outputs": [
    {
     "ename": "IndentationError",
     "evalue": "expected an indented block (<ipython-input-86-69e6230dec3d>, line 3)",
     "output_type": "error",
     "traceback": [
      "\u001b[1;36m  File \u001b[1;32m\"<ipython-input-86-69e6230dec3d>\"\u001b[1;36m, line \u001b[1;32m3\u001b[0m\n\u001b[1;33m    #     print k\u001b[0m\n\u001b[1;37m                 ^\u001b[0m\n\u001b[1;31mIndentationError\u001b[0m\u001b[1;31m:\u001b[0m expected an indented block\n"
     ]
    }
   ],
   "source": [
    "keys = match.keys()\n",
    "for k in keys:\n",
    "#     print k"
   ]
  },
  {
   "cell_type": "markdown",
   "metadata": {},
   "source": [
    "# Data Preprocessing"
   ]
  },
  {
   "cell_type": "code",
   "execution_count": 112,
   "metadata": {
    "collapsed": true
   },
   "outputs": [],
   "source": [
    "def match_names(team_name):\n",
    "    return team_name[:-3]\n",
    "\n",
    "def parse_time(date):\n",
    "    date = pd.datetime.strptime(date, '%Y-%m-%d %H:%M:%S')\n",
    "    return date.strftime('%m/%d/%y')"
   ]
  },
  {
   "cell_type": "code",
   "execution_count": 113,
   "metadata": {
    "collapsed": true
   },
   "outputs": [],
   "source": [
    "event_data = pd.read_csv(\"./data/event_data.csv\")\n",
    "line_up = pd.read_csv(\"./data/lineup.csv\")\n",
    "match_data = pd.read_csv(\"./data/match_data.csv\")\n",
    "match_data['match_id'] = match_data['temp_id']\n",
    "match_data.drop('temp_id',axis=1,inplace=True)\n",
    "event_data['match_id'] = event_data['join_id']\n",
    "event_data.drop('join_id',axis=1,inplace=True)"
   ]
  },
  {
   "cell_type": "code",
   "execution_count": 67,
   "metadata": {},
   "outputs": [
    {
     "data": {
      "text/html": [
       "<div>\n",
       "<style>\n",
       "    .dataframe thead tr:only-child th {\n",
       "        text-align: right;\n",
       "    }\n",
       "\n",
       "    .dataframe thead th {\n",
       "        text-align: left;\n",
       "    }\n",
       "\n",
       "    .dataframe tbody tr th {\n",
       "        vertical-align: top;\n",
       "    }\n",
       "</style>\n",
       "<table border=\"1\" class=\"dataframe\">\n",
       "  <thead>\n",
       "    <tr style=\"text-align: right;\">\n",
       "      <th></th>\n",
       "      <th>id</th>\n",
       "      <th>minute</th>\n",
       "      <th>player_name</th>\n",
       "      <th>event_type</th>\n",
       "      <th>event_datacol</th>\n",
       "      <th>match_id</th>\n",
       "    </tr>\n",
       "  </thead>\n",
       "  <tbody>\n",
       "    <tr>\n",
       "      <th>0</th>\n",
       "      <td>1477</td>\n",
       "      <td>85'</td>\n",
       "      <td>G. Xhaka</td>\n",
       "      <td>Assist</td>\n",
       "      <td>H</td>\n",
       "      <td>1510524195220</td>\n",
       "    </tr>\n",
       "    <tr>\n",
       "      <th>1</th>\n",
       "      <td>1478</td>\n",
       "      <td>85'</td>\n",
       "      <td>O. Giroud</td>\n",
       "      <td>Goal</td>\n",
       "      <td>H</td>\n",
       "      <td>1510524195220</td>\n",
       "    </tr>\n",
       "    <tr>\n",
       "      <th>2</th>\n",
       "      <td>1479</td>\n",
       "      <td>83'</td>\n",
       "      <td>G. Xhaka</td>\n",
       "      <td>Assist</td>\n",
       "      <td>H</td>\n",
       "      <td>1510524195220</td>\n",
       "    </tr>\n",
       "    <tr>\n",
       "      <th>3</th>\n",
       "      <td>1480</td>\n",
       "      <td>83'</td>\n",
       "      <td>A. Ramsey</td>\n",
       "      <td>Goal</td>\n",
       "      <td>H</td>\n",
       "      <td>1510524195220</td>\n",
       "    </tr>\n",
       "    <tr>\n",
       "      <th>4</th>\n",
       "      <td>1481</td>\n",
       "      <td>75'</td>\n",
       "      <td>T. Walcott</td>\n",
       "      <td>D. Welbeck</td>\n",
       "      <td>H</td>\n",
       "      <td>1510524195220</td>\n",
       "    </tr>\n",
       "  </tbody>\n",
       "</table>\n",
       "</div>"
      ],
      "text/plain": [
       "     id minute player_name  event_type event_datacol       match_id\n",
       "0  1477    85'    G. Xhaka      Assist             H  1510524195220\n",
       "1  1478    85'   O. Giroud        Goal             H  1510524195220\n",
       "2  1479    83'    G. Xhaka      Assist             H  1510524195220\n",
       "3  1480    83'   A. Ramsey        Goal             H  1510524195220\n",
       "4  1481    75'  T. Walcott  D. Welbeck             H  1510524195220"
      ]
     },
     "execution_count": 67,
     "metadata": {},
     "output_type": "execute_result"
    }
   ],
   "source": [
    "event_data.head()"
   ]
  },
  {
   "cell_type": "code",
   "execution_count": 57,
   "metadata": {
    "collapsed": true
   },
   "outputs": [],
   "source": [
    "# line_up.head()"
   ]
  },
  {
   "cell_type": "code",
   "execution_count": 68,
   "metadata": {},
   "outputs": [
    {
     "data": {
      "text/html": [
       "<div>\n",
       "<style>\n",
       "    .dataframe thead tr:only-child th {\n",
       "        text-align: right;\n",
       "    }\n",
       "\n",
       "    .dataframe thead th {\n",
       "        text-align: left;\n",
       "    }\n",
       "\n",
       "    .dataframe tbody tr th {\n",
       "        vertical-align: top;\n",
       "    }\n",
       "</style>\n",
       "<table border=\"1\" class=\"dataframe\">\n",
       "  <thead>\n",
       "    <tr style=\"text-align: right;\">\n",
       "      <th></th>\n",
       "      <th>id</th>\n",
       "      <th>week</th>\n",
       "      <th>home</th>\n",
       "      <th>away</th>\n",
       "      <th>date</th>\n",
       "      <th>winner</th>\n",
       "      <th>score</th>\n",
       "      <th>match_id</th>\n",
       "    </tr>\n",
       "  </thead>\n",
       "  <tbody>\n",
       "    <tr>\n",
       "      <th>0</th>\n",
       "      <td>107</td>\n",
       "      <td>1</td>\n",
       "      <td>Arsenal FC</td>\n",
       "      <td>Leicester City FC</td>\n",
       "      <td>8/11/17</td>\n",
       "      <td>1</td>\n",
       "      <td>4 - 3</td>\n",
       "      <td>1510524195220</td>\n",
       "    </tr>\n",
       "    <tr>\n",
       "      <th>1</th>\n",
       "      <td>108</td>\n",
       "      <td>1</td>\n",
       "      <td>Watford FC</td>\n",
       "      <td>Liverpool FC</td>\n",
       "      <td>8/12/17</td>\n",
       "      <td>0</td>\n",
       "      <td>3 - 3</td>\n",
       "      <td>1510524198580</td>\n",
       "    </tr>\n",
       "    <tr>\n",
       "      <th>2</th>\n",
       "      <td>109</td>\n",
       "      <td>1</td>\n",
       "      <td>Chelsea FC</td>\n",
       "      <td>Burnley FC</td>\n",
       "      <td>8/12/17</td>\n",
       "      <td>-1</td>\n",
       "      <td>2 - 3</td>\n",
       "      <td>1510524201480</td>\n",
       "    </tr>\n",
       "    <tr>\n",
       "      <th>3</th>\n",
       "      <td>110</td>\n",
       "      <td>1</td>\n",
       "      <td>Crystal Palace FC</td>\n",
       "      <td>Huddersfield Town FC</td>\n",
       "      <td>8/12/17</td>\n",
       "      <td>-1</td>\n",
       "      <td>0 - 3</td>\n",
       "      <td>1510524205545</td>\n",
       "    </tr>\n",
       "    <tr>\n",
       "      <th>4</th>\n",
       "      <td>111</td>\n",
       "      <td>1</td>\n",
       "      <td>Everton FC</td>\n",
       "      <td>Stoke City FC</td>\n",
       "      <td>8/12/17</td>\n",
       "      <td>1</td>\n",
       "      <td>1 - 0</td>\n",
       "      <td>1510524208824</td>\n",
       "    </tr>\n",
       "  </tbody>\n",
       "</table>\n",
       "</div>"
      ],
      "text/plain": [
       "    id  week               home                  away     date  winner  score  \\\n",
       "0  107     1         Arsenal FC     Leicester City FC  8/11/17       1  4 - 3   \n",
       "1  108     1         Watford FC          Liverpool FC  8/12/17       0  3 - 3   \n",
       "2  109     1         Chelsea FC            Burnley FC  8/12/17      -1  2 - 3   \n",
       "3  110     1  Crystal Palace FC  Huddersfield Town FC  8/12/17      -1  0 - 3   \n",
       "4  111     1         Everton FC         Stoke City FC  8/12/17       1  1 - 0   \n",
       "\n",
       "        match_id  \n",
       "0  1510524195220  \n",
       "1  1510524198580  \n",
       "2  1510524201480  \n",
       "3  1510524205545  \n",
       "4  1510524208824  "
      ]
     },
     "execution_count": 68,
     "metadata": {},
     "output_type": "execute_result"
    }
   ],
   "source": [
    "match_data.head()"
   ]
  },
  {
   "cell_type": "code",
   "execution_count": 114,
   "metadata": {
    "collapsed": true
   },
   "outputs": [],
   "source": [
    "minutes = pd.DataFrame(range(91),columns=['minute'])\n",
    "match_data['dump'] = [1 for i in range(match_data.shape[0])]\n",
    "minutes['dump'] = [1 for i in range(minutes.shape[0])]\n",
    "\n",
    "match_data = pd.merge(match_data,minutes).drop('dump',axis=1)"
   ]
  },
  {
   "cell_type": "code",
   "execution_count": 115,
   "metadata": {
    "collapsed": true
   },
   "outputs": [],
   "source": [
    "event_data.dropna(inplace=True,axis=0, how= 'any')\n",
    "event_data.minute = event_data.minute.astype(\"str\")\n",
    "for i,row in event_data.iterrows():\n",
    "    if \"+\" in event_data.loc[i,('minute')]:\n",
    "        event_data.loc[i,('minute')] = event_data.loc[i,('minute')][:2]\n",
    "    else:\n",
    "        event_data.loc[i,('minute')] = event_data.loc[i,('minute')][:-1]\n",
    "\n",
    "event_data.minute = event_data.minute.astype(\"int\")\n",
    "event_data.sort_values([\"match_id\",'minute'],inplace=True)"
   ]
  },
  {
   "cell_type": "code",
   "execution_count": 20,
   "metadata": {
    "collapsed": true
   },
   "outputs": [],
   "source": [
    "# match_data['join_id'] = str(match_data['match_id'])+str(match_data['minute'])\n",
    "# event_data['join_id'] = str(event_data['match_id'])+str(event_data['minute'])\n",
    "\n",
    "# event_data.drop_duplicates(subset=[\"match_id\", \"minute\"], keep='first', inplace=True)\n",
    "# event_data.head(10)"
   ]
  },
  {
   "cell_type": "code",
   "execution_count": 107,
   "metadata": {
    "scrolled": true
   },
   "outputs": [],
   "source": [
    "# match_data.head(20)"
   ]
  },
  {
   "cell_type": "code",
   "execution_count": 116,
   "metadata": {
    "collapsed": true
   },
   "outputs": [],
   "source": [
    "minute_data = pd.merge(match_data,event_data,on=[\"match_id\", \"minute\"],how='left')\n",
    "\n",
    "minute_data.sort_values([\"match_id\",'minute'],inplace=True)\n",
    "\n",
    "# minute_data.head(10)\n",
    "\n",
    "minute_data = minute_data[minute_data.event_type!='Assist']\n",
    "minute_data.drop([\"id_x\", \"id_y\"], axis=1, inplace=True)\n",
    "\n",
    "minute_data.reset_index(drop=True, inplace=True)\n",
    "\n",
    "minute_data['H_Goal'] = 0\n",
    "minute_data['A_Goal'] = 0\n",
    "\n",
    "minute_data['home'] = minute_data['home'].map(match_names)\n",
    "minute_data['away'] = minute_data['away'].map(match_names)\n"
   ]
  },
  {
   "cell_type": "code",
   "execution_count": 117,
   "metadata": {
    "collapsed": true
   },
   "outputs": [],
   "source": [
    "match_id = minute_data[\"match_id\"][0]\n",
    "\n",
    "for i, row in minute_data.iterrows():\n",
    "    if row.minute == 0:\n",
    "        continue\n",
    "\n",
    "    if row.match_id != match_id:\n",
    "        match_id = row.match_id\n",
    "        \n",
    "    \n",
    "    if row.event_type in ['Goal', 'Penalty Goal']:\n",
    "        if row.event_datacol == 'H':\n",
    "            minute_data.loc[i, (\"H_Goal\")] = minute_data.loc[i-1, (\"H_Goal\")]+1\n",
    "            minute_data.loc[i, (\"A_Goal\")] = minute_data.loc[i-1, (\"A_Goal\")]\n",
    "            \n",
    "        else:\n",
    "            minute_data.loc[i, (\"A_Goal\")] = minute_data.loc[i-1, (\"A_Goal\")]+1\n",
    "            minute_data.loc[i, (\"H_Goal\")] = minute_data.loc[i-1, (\"H_Goal\")]\n",
    "    \n",
    "    elif row.event_type == 'Own Goal':\n",
    "        if row.event_datacol == 'A':\n",
    "            minute_data.loc[i, (\"H_Goal\")] = minute_data.loc[i-1, (\"H_Goal\")]+1\n",
    "            minute_data.loc[i, (\"A_Goal\")] = minute_data.loc[i-1, (\"A_Goal\")]\n",
    "            \n",
    "        else:\n",
    "            minute_data.loc[i, (\"A_Goal\")] = minute_data.loc[i-1, (\"A_Goal\")]+1\n",
    "            minute_data.loc[i, (\"H_Goal\")] = minute_data.loc[i-1, (\"H_Goal\")]\n",
    "            \n",
    "    else:\n",
    "        minute_data.loc[i, (\"H_Goal\")] = minute_data.loc[i-1, (\"H_Goal\")]\n",
    "        minute_data.loc[i, (\"A_Goal\")] = minute_data.loc[i-1, (\"A_Goal\")]\n",
    "        \n"
   ]
  },
  {
   "cell_type": "code",
   "execution_count": 108,
   "metadata": {
    "scrolled": true
   },
   "outputs": [],
   "source": [
    "# minute_data.tail(95)"
   ]
  },
  {
   "cell_type": "code",
   "execution_count": 118,
   "metadata": {},
   "outputs": [],
   "source": [
    "# with open(\"./data/minute/201718.pkl\",\"wb\") as file:\n",
    "#     pkl.dump(minute_data,file)\n",
    "\n",
    "with open(\"./data/minute/201718.pkl\",\"wb\") as file:\n",
    "    minute_data = pkl.load(file)"
   ]
  },
  {
   "cell_type": "code",
   "execution_count": 119,
   "metadata": {
    "collapsed": true
   },
   "outputs": [],
   "source": [
    "db_file = \"./data/database.sqlite\"\n",
    "try:\n",
    "    conn = sqlite3.connect(db_file)\n",
    "except Exception as e:\n",
    "    print(e)\n",
    "    \n",
    "cur  = conn.cursor()\n",
    "tables = cur.execute(\"SELECT name FROM sqlite_master WHERE type='table'\")\n",
    "\n",
    "players = pd.read_sql_query(\"SELECT * from Player\", conn)\n",
    "match = pd.read_sql_query(\"SELECT * from Match\",conn)\n",
    "league = pd.read_sql_query(\"SELECT * from League\",conn)\n",
    "team = pd.read_sql_query(\"SELECT * from Team\",conn)\n",
    "player_attr = pd.read_sql_query(\"SELECT * from Player_Attributes\",conn)\n",
    "team_attr = pd.read_sql_query(\"SELECT * from Team_Attributes\",conn)"
   ]
  },
  {
   "cell_type": "code",
   "execution_count": 121,
   "metadata": {},
   "outputs": [
    {
     "data": {
      "text/html": [
       "<div>\n",
       "<style>\n",
       "    .dataframe thead tr:only-child th {\n",
       "        text-align: right;\n",
       "    }\n",
       "\n",
       "    .dataframe thead th {\n",
       "        text-align: left;\n",
       "    }\n",
       "\n",
       "    .dataframe tbody tr th {\n",
       "        vertical-align: top;\n",
       "    }\n",
       "</style>\n",
       "<table border=\"1\" class=\"dataframe\">\n",
       "  <thead>\n",
       "    <tr style=\"text-align: right;\">\n",
       "      <th></th>\n",
       "      <th>week</th>\n",
       "      <th>home</th>\n",
       "      <th>away</th>\n",
       "      <th>date</th>\n",
       "      <th>winner</th>\n",
       "      <th>score</th>\n",
       "      <th>match_id</th>\n",
       "      <th>minute</th>\n",
       "      <th>player_name</th>\n",
       "      <th>event_type</th>\n",
       "      <th>event_datacol</th>\n",
       "      <th>H_Goal</th>\n",
       "      <th>A_Goal</th>\n",
       "    </tr>\n",
       "  </thead>\n",
       "  <tbody>\n",
       "    <tr>\n",
       "      <th>0</th>\n",
       "      <td>1</td>\n",
       "      <td>Arsenal</td>\n",
       "      <td>Leicester City</td>\n",
       "      <td>8/11/17</td>\n",
       "      <td>1</td>\n",
       "      <td>4 - 3</td>\n",
       "      <td>1510524195220</td>\n",
       "      <td>0</td>\n",
       "      <td>NaN</td>\n",
       "      <td>NaN</td>\n",
       "      <td>NaN</td>\n",
       "      <td>0</td>\n",
       "      <td>0</td>\n",
       "    </tr>\n",
       "    <tr>\n",
       "      <th>1</th>\n",
       "      <td>1</td>\n",
       "      <td>Arsenal</td>\n",
       "      <td>Leicester City</td>\n",
       "      <td>8/11/17</td>\n",
       "      <td>1</td>\n",
       "      <td>4 - 3</td>\n",
       "      <td>1510524195220</td>\n",
       "      <td>1</td>\n",
       "      <td>NaN</td>\n",
       "      <td>NaN</td>\n",
       "      <td>NaN</td>\n",
       "      <td>0</td>\n",
       "      <td>0</td>\n",
       "    </tr>\n",
       "    <tr>\n",
       "      <th>2</th>\n",
       "      <td>1</td>\n",
       "      <td>Arsenal</td>\n",
       "      <td>Leicester City</td>\n",
       "      <td>8/11/17</td>\n",
       "      <td>1</td>\n",
       "      <td>4 - 3</td>\n",
       "      <td>1510524195220</td>\n",
       "      <td>2</td>\n",
       "      <td>A. Lacazette</td>\n",
       "      <td>Goal</td>\n",
       "      <td>H</td>\n",
       "      <td>1</td>\n",
       "      <td>0</td>\n",
       "    </tr>\n",
       "    <tr>\n",
       "      <th>3</th>\n",
       "      <td>1</td>\n",
       "      <td>Arsenal</td>\n",
       "      <td>Leicester City</td>\n",
       "      <td>8/11/17</td>\n",
       "      <td>1</td>\n",
       "      <td>4 - 3</td>\n",
       "      <td>1510524195220</td>\n",
       "      <td>3</td>\n",
       "      <td>NaN</td>\n",
       "      <td>NaN</td>\n",
       "      <td>NaN</td>\n",
       "      <td>1</td>\n",
       "      <td>0</td>\n",
       "    </tr>\n",
       "    <tr>\n",
       "      <th>4</th>\n",
       "      <td>1</td>\n",
       "      <td>Arsenal</td>\n",
       "      <td>Leicester City</td>\n",
       "      <td>8/11/17</td>\n",
       "      <td>1</td>\n",
       "      <td>4 - 3</td>\n",
       "      <td>1510524195220</td>\n",
       "      <td>4</td>\n",
       "      <td>NaN</td>\n",
       "      <td>NaN</td>\n",
       "      <td>NaN</td>\n",
       "      <td>1</td>\n",
       "      <td>0</td>\n",
       "    </tr>\n",
       "  </tbody>\n",
       "</table>\n",
       "</div>"
      ],
      "text/plain": [
       "   week     home            away     date  winner  score       match_id  \\\n",
       "0     1  Arsenal  Leicester City  8/11/17       1  4 - 3  1510524195220   \n",
       "1     1  Arsenal  Leicester City  8/11/17       1  4 - 3  1510524195220   \n",
       "2     1  Arsenal  Leicester City  8/11/17       1  4 - 3  1510524195220   \n",
       "3     1  Arsenal  Leicester City  8/11/17       1  4 - 3  1510524195220   \n",
       "4     1  Arsenal  Leicester City  8/11/17       1  4 - 3  1510524195220   \n",
       "\n",
       "   minute   player_name event_type event_datacol  H_Goal  A_Goal  \n",
       "0       0           NaN        NaN           NaN       0       0  \n",
       "1       1           NaN        NaN           NaN       0       0  \n",
       "2       2  A. Lacazette       Goal             H       1       0  \n",
       "3       3           NaN        NaN           NaN       1       0  \n",
       "4       4           NaN        NaN           NaN       1       0  "
      ]
     },
     "execution_count": 121,
     "metadata": {},
     "output_type": "execute_result"
    }
   ],
   "source": [
    "minute_data.head()"
   ]
  },
  {
   "cell_type": "code",
   "execution_count": 109,
   "metadata": {},
   "outputs": [],
   "source": [
    "# league"
   ]
  },
  {
   "cell_type": "code",
   "execution_count": 123,
   "metadata": {},
   "outputs": [],
   "source": [
    "epl_matches = match[match['league_id'] == 1729]\n",
    "epl_matches = pd.merge(epl_matches,team,left_on=\"home_team_api_id\",right_on=\"team_api_id\")\n",
    "epl_matches['home_team'] = epl_matches['team_long_name']\n",
    "epl_matches.drop(['id_y','team_api_id','team_fifa_api_id','team_long_name', 'team_short_name'],axis=1,inplace=True)\n",
    "\n",
    "epl_matches = pd.merge(epl_matches,team,left_on=\"away_team_api_id\",right_on=\"team_api_id\")\n",
    "epl_matches['away_team'] = epl_matches['team_long_name']\n",
    "epl_matches.drop(['id','team_api_id','team_fifa_api_id','team_long_name', 'team_short_name'],axis=1,inplace=True)\n",
    "\n",
    "epl_matches.drop(['id_x','country_id','league_id','home_team_goal','away_team_goal'],axis=1,inplace=True)\n",
    "\n",
    "epl_matches['date'] = epl_matches['date'].map(parse_time)"
   ]
  },
  {
   "cell_type": "code",
   "execution_count": 126,
   "metadata": {},
   "outputs": [
    {
     "data": {
      "text/html": [
       "<div>\n",
       "<style>\n",
       "    .dataframe thead tr:only-child th {\n",
       "        text-align: right;\n",
       "    }\n",
       "\n",
       "    .dataframe thead th {\n",
       "        text-align: left;\n",
       "    }\n",
       "\n",
       "    .dataframe tbody tr th {\n",
       "        vertical-align: top;\n",
       "    }\n",
       "</style>\n",
       "<table border=\"1\" class=\"dataframe\">\n",
       "  <thead>\n",
       "    <tr style=\"text-align: right;\">\n",
       "      <th></th>\n",
       "      <th>season</th>\n",
       "      <th>stage</th>\n",
       "      <th>date</th>\n",
       "      <th>match_api_id</th>\n",
       "      <th>home_team_api_id</th>\n",
       "      <th>away_team_api_id</th>\n",
       "      <th>home_player_X1</th>\n",
       "      <th>home_player_X2</th>\n",
       "      <th>home_player_X3</th>\n",
       "      <th>home_player_X4</th>\n",
       "      <th>...</th>\n",
       "      <th>VCD</th>\n",
       "      <th>VCA</th>\n",
       "      <th>GBH</th>\n",
       "      <th>GBD</th>\n",
       "      <th>GBA</th>\n",
       "      <th>BSH</th>\n",
       "      <th>BSD</th>\n",
       "      <th>BSA</th>\n",
       "      <th>home_team</th>\n",
       "      <th>away_team</th>\n",
       "    </tr>\n",
       "  </thead>\n",
       "  <tbody>\n",
       "    <tr>\n",
       "      <th>0</th>\n",
       "      <td>2008/2009</td>\n",
       "      <td>1</td>\n",
       "      <td>08/17/08</td>\n",
       "      <td>489042</td>\n",
       "      <td>10260</td>\n",
       "      <td>10261</td>\n",
       "      <td>1.0</td>\n",
       "      <td>2.0</td>\n",
       "      <td>4.0</td>\n",
       "      <td>6.0</td>\n",
       "      <td>...</td>\n",
       "      <td>5.50</td>\n",
       "      <td>12.00</td>\n",
       "      <td>1.30</td>\n",
       "      <td>4.75</td>\n",
       "      <td>10.0</td>\n",
       "      <td>1.29</td>\n",
       "      <td>4.50</td>\n",
       "      <td>11.0</td>\n",
       "      <td>Manchester United</td>\n",
       "      <td>Newcastle United</td>\n",
       "    </tr>\n",
       "    <tr>\n",
       "      <th>1</th>\n",
       "      <td>2010/2011</td>\n",
       "      <td>1</td>\n",
       "      <td>08/16/10</td>\n",
       "      <td>839802</td>\n",
       "      <td>10260</td>\n",
       "      <td>10261</td>\n",
       "      <td>1.0</td>\n",
       "      <td>2.0</td>\n",
       "      <td>4.0</td>\n",
       "      <td>6.0</td>\n",
       "      <td>...</td>\n",
       "      <td>6.00</td>\n",
       "      <td>15.00</td>\n",
       "      <td>1.23</td>\n",
       "      <td>5.50</td>\n",
       "      <td>12.0</td>\n",
       "      <td>1.22</td>\n",
       "      <td>5.50</td>\n",
       "      <td>13.0</td>\n",
       "      <td>Manchester United</td>\n",
       "      <td>Newcastle United</td>\n",
       "    </tr>\n",
       "    <tr>\n",
       "      <th>2</th>\n",
       "      <td>2011/2012</td>\n",
       "      <td>13</td>\n",
       "      <td>11/26/11</td>\n",
       "      <td>1024845</td>\n",
       "      <td>10260</td>\n",
       "      <td>10261</td>\n",
       "      <td>1.0</td>\n",
       "      <td>2.0</td>\n",
       "      <td>4.0</td>\n",
       "      <td>6.0</td>\n",
       "      <td>...</td>\n",
       "      <td>4.75</td>\n",
       "      <td>9.50</td>\n",
       "      <td>1.35</td>\n",
       "      <td>4.50</td>\n",
       "      <td>8.5</td>\n",
       "      <td>1.40</td>\n",
       "      <td>4.33</td>\n",
       "      <td>8.5</td>\n",
       "      <td>Manchester United</td>\n",
       "      <td>Newcastle United</td>\n",
       "    </tr>\n",
       "    <tr>\n",
       "      <th>3</th>\n",
       "      <td>2012/2013</td>\n",
       "      <td>19</td>\n",
       "      <td>12/26/12</td>\n",
       "      <td>1229300</td>\n",
       "      <td>10260</td>\n",
       "      <td>10261</td>\n",
       "      <td>1.0</td>\n",
       "      <td>2.0</td>\n",
       "      <td>4.0</td>\n",
       "      <td>6.0</td>\n",
       "      <td>...</td>\n",
       "      <td>6.50</td>\n",
       "      <td>13.00</td>\n",
       "      <td>1.22</td>\n",
       "      <td>6.50</td>\n",
       "      <td>11.0</td>\n",
       "      <td>1.25</td>\n",
       "      <td>6.00</td>\n",
       "      <td>10.0</td>\n",
       "      <td>Manchester United</td>\n",
       "      <td>Newcastle United</td>\n",
       "    </tr>\n",
       "    <tr>\n",
       "      <th>4</th>\n",
       "      <td>2013/2014</td>\n",
       "      <td>15</td>\n",
       "      <td>12/07/13</td>\n",
       "      <td>1474518</td>\n",
       "      <td>10260</td>\n",
       "      <td>10261</td>\n",
       "      <td>1.0</td>\n",
       "      <td>2.0</td>\n",
       "      <td>4.0</td>\n",
       "      <td>6.0</td>\n",
       "      <td>...</td>\n",
       "      <td>4.50</td>\n",
       "      <td>6.25</td>\n",
       "      <td>NaN</td>\n",
       "      <td>NaN</td>\n",
       "      <td>NaN</td>\n",
       "      <td>NaN</td>\n",
       "      <td>NaN</td>\n",
       "      <td>NaN</td>\n",
       "      <td>Manchester United</td>\n",
       "      <td>Newcastle United</td>\n",
       "    </tr>\n",
       "  </tbody>\n",
       "</table>\n",
       "<p>5 rows × 112 columns</p>\n",
       "</div>"
      ],
      "text/plain": [
       "      season  stage      date  match_api_id  home_team_api_id  \\\n",
       "0  2008/2009      1  08/17/08        489042             10260   \n",
       "1  2010/2011      1  08/16/10        839802             10260   \n",
       "2  2011/2012     13  11/26/11       1024845             10260   \n",
       "3  2012/2013     19  12/26/12       1229300             10260   \n",
       "4  2013/2014     15  12/07/13       1474518             10260   \n",
       "\n",
       "   away_team_api_id  home_player_X1  home_player_X2  home_player_X3  \\\n",
       "0             10261             1.0             2.0             4.0   \n",
       "1             10261             1.0             2.0             4.0   \n",
       "2             10261             1.0             2.0             4.0   \n",
       "3             10261             1.0             2.0             4.0   \n",
       "4             10261             1.0             2.0             4.0   \n",
       "\n",
       "   home_player_X4        ...          VCD    VCA   GBH   GBD   GBA   BSH  \\\n",
       "0             6.0        ...         5.50  12.00  1.30  4.75  10.0  1.29   \n",
       "1             6.0        ...         6.00  15.00  1.23  5.50  12.0  1.22   \n",
       "2             6.0        ...         4.75   9.50  1.35  4.50   8.5  1.40   \n",
       "3             6.0        ...         6.50  13.00  1.22  6.50  11.0  1.25   \n",
       "4             6.0        ...         4.50   6.25   NaN   NaN   NaN   NaN   \n",
       "\n",
       "    BSD   BSA          home_team         away_team  \n",
       "0  4.50  11.0  Manchester United  Newcastle United  \n",
       "1  5.50  13.0  Manchester United  Newcastle United  \n",
       "2  4.33   8.5  Manchester United  Newcastle United  \n",
       "3  6.00  10.0  Manchester United  Newcastle United  \n",
       "4   NaN   NaN  Manchester United  Newcastle United  \n",
       "\n",
       "[5 rows x 112 columns]"
      ]
     },
     "execution_count": 126,
     "metadata": {},
     "output_type": "execute_result"
    }
   ],
   "source": [
    "epl_matches.head()"
   ]
  },
  {
   "cell_type": "code",
   "execution_count": 101,
   "metadata": {
    "collapsed": true
   },
   "outputs": [],
   "source": [
    "train = pd.merge(epl_matches,minute_data,left_on=['date','home_team','away_team'],right_on=['date','home','away'])"
   ]
  },
  {
   "cell_type": "code",
   "execution_count": 105,
   "metadata": {},
   "outputs": [
    {
     "data": {
      "text/html": [
       "<div>\n",
       "<style>\n",
       "    .dataframe thead tr:only-child th {\n",
       "        text-align: right;\n",
       "    }\n",
       "\n",
       "    .dataframe thead th {\n",
       "        text-align: left;\n",
       "    }\n",
       "\n",
       "    .dataframe tbody tr th {\n",
       "        vertical-align: top;\n",
       "    }\n",
       "</style>\n",
       "<table border=\"1\" class=\"dataframe\">\n",
       "  <thead>\n",
       "    <tr style=\"text-align: right;\">\n",
       "      <th></th>\n",
       "      <th>id_x</th>\n",
       "      <th>country_id</th>\n",
       "      <th>league_id</th>\n",
       "      <th>season</th>\n",
       "      <th>stage</th>\n",
       "      <th>date</th>\n",
       "      <th>match_api_id</th>\n",
       "      <th>home_team_api_id</th>\n",
       "      <th>away_team_api_id</th>\n",
       "      <th>home_team_goal</th>\n",
       "      <th>...</th>\n",
       "      <th>VCD</th>\n",
       "      <th>VCA</th>\n",
       "      <th>GBH</th>\n",
       "      <th>GBD</th>\n",
       "      <th>GBA</th>\n",
       "      <th>BSH</th>\n",
       "      <th>BSD</th>\n",
       "      <th>BSA</th>\n",
       "      <th>home_team</th>\n",
       "      <th>away_team</th>\n",
       "    </tr>\n",
       "  </thead>\n",
       "  <tbody>\n",
       "  </tbody>\n",
       "</table>\n",
       "<p>0 rows × 117 columns</p>\n",
       "</div>"
      ],
      "text/plain": [
       "Empty DataFrame\n",
       "Columns: [id_x, country_id, league_id, season, stage, date, match_api_id, home_team_api_id, away_team_api_id, home_team_goal, away_team_goal, home_player_X1, home_player_X2, home_player_X3, home_player_X4, home_player_X5, home_player_X6, home_player_X7, home_player_X8, home_player_X9, home_player_X10, home_player_X11, away_player_X1, away_player_X2, away_player_X3, away_player_X4, away_player_X5, away_player_X6, away_player_X7, away_player_X8, away_player_X9, away_player_X10, away_player_X11, home_player_Y1, home_player_Y2, home_player_Y3, home_player_Y4, home_player_Y5, home_player_Y6, home_player_Y7, home_player_Y8, home_player_Y9, home_player_Y10, home_player_Y11, away_player_Y1, away_player_Y2, away_player_Y3, away_player_Y4, away_player_Y5, away_player_Y6, away_player_Y7, away_player_Y8, away_player_Y9, away_player_Y10, away_player_Y11, home_player_1, home_player_2, home_player_3, home_player_4, home_player_5, home_player_6, home_player_7, home_player_8, home_player_9, home_player_10, home_player_11, away_player_1, away_player_2, away_player_3, away_player_4, away_player_5, away_player_6, away_player_7, away_player_8, away_player_9, away_player_10, away_player_11, goal, shoton, shotoff, foulcommit, card, cross, corner, possession, B365H, B365D, B365A, BWH, BWD, BWA, IWH, IWD, IWA, LBH, LBD, LBA, PSH, PSD, PSA, ...]\n",
       "Index: []\n",
       "\n",
       "[0 rows x 117 columns]"
      ]
     },
     "execution_count": 105,
     "metadata": {},
     "output_type": "execute_result"
    }
   ],
   "source": [
    "epl_matches[epl_matches['date'] == '12/8/17']"
   ]
  },
  {
   "cell_type": "code",
   "execution_count": null,
   "metadata": {
    "collapsed": true
   },
   "outputs": [],
   "source": []
  }
 ],
 "metadata": {
  "kernelspec": {
   "display_name": "Python 2",
   "language": "python",
   "name": "python2"
  },
  "language_info": {
   "codemirror_mode": {
    "name": "ipython",
    "version": 2
   },
   "file_extension": ".py",
   "mimetype": "text/x-python",
   "name": "python",
   "nbconvert_exporter": "python",
   "pygments_lexer": "ipython2",
   "version": "2.7.13"
  }
 },
 "nbformat": 4,
 "nbformat_minor": 2
}
