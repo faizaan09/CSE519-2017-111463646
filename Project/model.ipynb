{
 "cells": [
  {
   "cell_type": "code",
   "execution_count": 42,
   "metadata": {
    "collapsed": true
   },
   "outputs": [],
   "source": [
    "import numpy as np\n",
    "import pandas as pd\n",
    "import seaborn as sbn\n",
    "import pickle as pkl\n",
    "import matplotlib.pyplot as plt\n",
    "from datetime import datetime\n",
    "from sklearn.model_selection import train_test_split\n",
    "from sklearn.linear_model import LinearRegression,LogisticRegression\n",
    "from sklearn.model_selection import GridSearchCV\n",
    "from sklearn import linear_model\n",
    "from sklearn import svm\n",
    "from sklearn.neighbors import KNeighborsClassifier as KNN\n",
    "from sklearn.metrics import mean_squared_error, r2_score,mean_absolute_error,make_scorer\n",
    "from sklearn.preprocessing import MinMaxScaler,StandardScaler\n",
    "from sklearn import metrics\n",
    "from math import log\n",
    "\n",
    "\n",
    "def eval_probs(y_prob,y_test, labels):\n",
    "    \"\"\"\n",
    "    y_prob : predict_proba output of a model\n",
    "    labels : all unique labels in the classification\n",
    "    \"\"\"\n",
    "    \n",
    "    vals = []\n",
    "    titles = {}\n",
    "    titles[-1] = \"Away Win\"\n",
    "    titles[0] = \"Draw\"\n",
    "    titles[1] = \"Home Win\"\n",
    "\n",
    "    y_prob = pd.DataFrame(y_prob, columns=[-1, 0, 1])\n",
    "    y_prob = y_prob.round(1)\n",
    "    y_prob['label'] = y_test.reset_index(drop=True)\n",
    "    \n",
    "    for ind, label in enumerate(labels):\n",
    "        vals = sorted(y_prob[label].unique())\n",
    "        \n",
    "        y_col = []\n",
    "        \n",
    "        \n",
    "        for i in vals:\n",
    "            tot_len = y_prob[(y_prob[label] == i)].shape[0]\n",
    "            matching_len = y_prob[(y_prob[label] == i) & (y_prob['label'] == label)].shape[0]\n",
    "            y_col.append(matching_len*1.0/tot_len)\n",
    "        \n",
    "#         print vals\n",
    "#         print y_col\n",
    "#         y.append(y_col)\n",
    "        \n",
    "        plt.figure(figsize=(10,16))\n",
    "        plt.subplot(311+ind)\n",
    "        plt.bar(vals, y_col, width=0.05)\n",
    "        plt.title(titles[label], fontsize=16)\n",
    "        plt.xticks(np.arange(0.0, 1.1, 0.1), fontsize=15)\n",
    "        plt.yticks(fontsize=15)\n",
    "        plt.show()\n",
    "        \n",
    "def save_model(model, model_name):\n",
    "    saved_models_root = \"./saved_models/\" \n",
    "    filename = saved_models_root + model_name + datetime.now().strftime('%m%d_%H%M%S') + \".pkl\"\n",
    "                                                 \n",
    "    with open(filename, 'wb') as outfile:\n",
    "        pkl.dump(model, outfile)"
   ]
  },
  {
   "cell_type": "code",
   "execution_count": 43,
   "metadata": {
    "collapsed": true
   },
   "outputs": [],
   "source": [
    "# with open(\"./data/train_data.pkl\") as infile:\n",
    "#     train_data = pkl.load(infile)\n",
    "\n",
    "with open(\"./data/train/train_data.pkl\") as infile:\n",
    "    train_data = pkl.load(infile)\n"
   ]
  },
  {
   "cell_type": "code",
   "execution_count": 44,
   "metadata": {},
   "outputs": [
    {
     "data": {
      "text/plain": [
       "array(['season', 'stage', 'date', 'match_api_id', 'home_team_api_id',\n",
       "       'away_team_api_id', 'home_player_X1', 'home_player_X2',\n",
       "       'home_player_X3', 'home_player_X4', 'home_player_X5',\n",
       "       'home_player_X6', 'home_player_X7', 'home_player_X8',\n",
       "       'home_player_X9', 'home_player_X10', 'home_player_X11',\n",
       "       'away_player_X1', 'away_player_X2', 'away_player_X3',\n",
       "       'away_player_X4', 'away_player_X5', 'away_player_X6',\n",
       "       'away_player_X7', 'away_player_X8', 'away_player_X9',\n",
       "       'away_player_X10', 'away_player_X11', 'home_player_Y1',\n",
       "       'home_player_Y2', 'home_player_Y3', 'home_player_Y4',\n",
       "       'home_player_Y5', 'home_player_Y6', 'home_player_Y7',\n",
       "       'home_player_Y8', 'home_player_Y9', 'home_player_Y10',\n",
       "       'home_player_Y11', 'away_player_Y1', 'away_player_Y2',\n",
       "       'away_player_Y3', 'away_player_Y4', 'away_player_Y5',\n",
       "       'away_player_Y6', 'away_player_Y7', 'away_player_Y8',\n",
       "       'away_player_Y9', 'away_player_Y10', 'away_player_Y11',\n",
       "       'home_player_1', 'home_player_2', 'home_player_3', 'home_player_4',\n",
       "       'home_player_5', 'home_player_6', 'home_player_7', 'home_player_8',\n",
       "       'home_player_9', 'home_player_10', 'home_player_11',\n",
       "       'away_player_1', 'away_player_2', 'away_player_3', 'away_player_4',\n",
       "       'away_player_5', 'away_player_6', 'away_player_7', 'away_player_8',\n",
       "       'away_player_9', 'away_player_10', 'away_player_11', 'goal',\n",
       "       'shoton', 'shotoff', 'foulcommit', 'card', 'cross', 'corner',\n",
       "       'possession', 'B365H', 'B365D', 'B365A', 'BWH', 'BWD', 'BWA', 'IWH',\n",
       "       'IWD', 'IWA', 'LBH', 'LBD', 'LBA', 'PSH', 'PSD', 'PSA', 'WHH',\n",
       "       'WHD', 'WHA', 'SJH', 'SJD', 'SJA', 'VCH', 'VCD', 'VCA', 'GBH',\n",
       "       'GBD', 'GBA', 'BSH', 'BSD', 'BSA', 'home_team', 'away_team', 'week',\n",
       "       'home', 'away', 'winner', 'score', 'match_id', 'minute',\n",
       "       'player_name', 'event_type', 'event_datacol', 'H_Goal', 'A_Goal'], dtype=object)"
      ]
     },
     "execution_count": 44,
     "metadata": {},
     "output_type": "execute_result"
    }
   ],
   "source": [
    "train_data.columns.values"
   ]
  },
  {
   "cell_type": "code",
   "execution_count": 4,
   "metadata": {
    "collapsed": true
   },
   "outputs": [],
   "source": [
    "columns = ['date', 'B365H', 'B365D', 'B365A', 'match_id', 'home_team', 'away_team', \n",
    "           'winner', 'minute', 'H_Goal', 'A_Goal']\n",
    "train_data = train_data[columns]"
   ]
  },
  {
   "cell_type": "code",
   "execution_count": 5,
   "metadata": {},
   "outputs": [
    {
     "data": {
      "text/plain": [
       "(183535, 11)"
      ]
     },
     "execution_count": 5,
     "metadata": {},
     "output_type": "execute_result"
    }
   ],
   "source": [
    "train_data.shape"
   ]
  },
  {
   "cell_type": "code",
   "execution_count": 6,
   "metadata": {
    "collapsed": true
   },
   "outputs": [],
   "source": [
    "# train_data.match_id.value_counts()"
   ]
  },
  {
   "cell_type": "code",
   "execution_count": 7,
   "metadata": {
    "collapsed": true
   },
   "outputs": [],
   "source": [
    "# train_data[(train_data['match_id']==1510566245714) & (train_data['minute']>=45)]"
   ]
  },
  {
   "cell_type": "code",
   "execution_count": 8,
   "metadata": {
    "collapsed": true
   },
   "outputs": [],
   "source": [
    "train_data.drop_duplicates(inplace=True, keep='first')"
   ]
  },
  {
   "cell_type": "code",
   "execution_count": 9,
   "metadata": {
    "collapsed": true
   },
   "outputs": [],
   "source": [
    "# train_data.match_id.value_counts()"
   ]
  },
  {
   "cell_type": "code",
   "execution_count": 10,
   "metadata": {
    "collapsed": true
   },
   "outputs": [],
   "source": [
    "X = train_data.drop(['winner', 'date', 'match_id', 'home_team', 'away_team'], axis=1)\n",
    "Y = train_data['winner']"
   ]
  },
  {
   "cell_type": "code",
   "execution_count": 11,
   "metadata": {
    "collapsed": true
   },
   "outputs": [],
   "source": [
    "X_train, X_test, y_train, y_test = train_test_split(X, Y, test_size=0.1)"
   ]
  },
  {
   "cell_type": "markdown",
   "metadata": {},
   "source": [
    "## Support Vector Classifier"
   ]
  },
  {
   "cell_type": "code",
   "execution_count": 92,
   "metadata": {},
   "outputs": [
    {
     "data": {
      "text/plain": [
       "SVC(C=1.0, cache_size=200, class_weight=None, coef0=0.0,\n",
       "  decision_function_shape='ovr', degree=3, gamma='auto', kernel='rbf',\n",
       "  max_iter=-1, probability=True, random_state=None, shrinking=True,\n",
       "  tol=0.001, verbose=False)"
      ]
     },
     "execution_count": 92,
     "metadata": {},
     "output_type": "execute_result"
    }
   ],
   "source": [
    "svc = svm.SVC(probability=True)\n",
    "svc.fit(X_train, y_train)\n",
    "\n",
    "y_pred = svc.predict(X_test)\n",
    "\n",
    "print metrics.accuracy_score(y_test, y_pred)\n",
    "\n",
    "y_prob = svc.predict_proba(X_test)"
   ]
  },
  {
   "cell_type": "markdown",
   "metadata": {},
   "source": [
    "## Logistic Regression"
   ]
  },
  {
   "cell_type": "code",
   "execution_count": 13,
   "metadata": {},
   "outputs": [
    {
     "data": {
      "text/plain": [
       "LogisticRegression(C=1.0, class_weight=None, dual=False, fit_intercept=True,\n",
       "          intercept_scaling=1, max_iter=100, multi_class='multinomial',\n",
       "          n_jobs=-1, penalty='l2', random_state=None, solver='lbfgs',\n",
       "          tol=0.0001, verbose=0, warm_start=False)"
      ]
     },
     "execution_count": 13,
     "metadata": {},
     "output_type": "execute_result"
    }
   ],
   "source": [
    "lr = LogisticRegression(n_jobs=-1,multi_class='multinomial',solver='lbfgs')\n",
    "lr.fit(X_train,y_train)\n",
    "\n",
    "y_pred = lr.predict(X_test)\n",
    "\n",
    "print metrics.accuracy_score(y_test, y_pred)\n",
    "\n",
    "y_prob = lr.predict_proba(X_test)"
   ]
  },
  {
   "cell_type": "code",
   "execution_count": null,
   "metadata": {
    "collapsed": true
   },
   "outputs": [],
   "source": []
  },
  {
   "cell_type": "markdown",
   "metadata": {},
   "source": [
    "## SGD Classifier "
   ]
  },
  {
   "cell_type": "code",
   "execution_count": 41,
   "metadata": {},
   "outputs": [
    {
     "name": "stdout",
     "output_type": "stream",
     "text": [
      "0.257287705957\n"
     ]
    },
    {
     "ename": "AttributeError",
     "evalue": "probability estimates are not available for loss='squared_epsilon_insensitive'",
     "output_type": "error",
     "traceback": [
      "\u001b[1;31m---------------------------------------------------------------------------\u001b[0m",
      "\u001b[1;31mAttributeError\u001b[0m                            Traceback (most recent call last)",
      "\u001b[1;32m<ipython-input-41-ecf35fa07df4>\u001b[0m in \u001b[0;36m<module>\u001b[1;34m()\u001b[0m\n\u001b[0;32m      5\u001b[0m \u001b[1;32mprint\u001b[0m \u001b[0mmetrics\u001b[0m\u001b[1;33m.\u001b[0m\u001b[0maccuracy_score\u001b[0m\u001b[1;33m(\u001b[0m\u001b[0my_test\u001b[0m\u001b[1;33m,\u001b[0m \u001b[0my_pred\u001b[0m\u001b[1;33m)\u001b[0m\u001b[1;33m\u001b[0m\u001b[0m\n\u001b[0;32m      6\u001b[0m \u001b[1;33m\u001b[0m\u001b[0m\n\u001b[1;32m----> 7\u001b[1;33m \u001b[0my_prob\u001b[0m \u001b[1;33m=\u001b[0m \u001b[0msgd\u001b[0m\u001b[1;33m.\u001b[0m\u001b[0mpredict_proba\u001b[0m\u001b[1;33m(\u001b[0m\u001b[0mX_test\u001b[0m\u001b[1;33m)\u001b[0m\u001b[1;33m\u001b[0m\u001b[0m\n\u001b[0m\u001b[0;32m      8\u001b[0m \u001b[0meval_probs\u001b[0m\u001b[1;33m(\u001b[0m\u001b[0my_prob\u001b[0m\u001b[1;33m,\u001b[0m\u001b[0my_test\u001b[0m\u001b[1;33m,\u001b[0m \u001b[1;33m[\u001b[0m\u001b[1;33m-\u001b[0m\u001b[1;36m1\u001b[0m\u001b[1;33m,\u001b[0m \u001b[1;36m0\u001b[0m\u001b[1;33m,\u001b[0m \u001b[1;36m1\u001b[0m\u001b[1;33m]\u001b[0m\u001b[1;33m)\u001b[0m\u001b[1;33m\u001b[0m\u001b[0m\n",
      "\u001b[1;32mC:\\ProgramData\\Anaconda2\\lib\\site-packages\\sklearn\\linear_model\\stochastic_gradient.pyc\u001b[0m in \u001b[0;36mpredict_proba\u001b[1;34m(self)\u001b[0m\n\u001b[0;32m    824\u001b[0m         \u001b[0mhttp\u001b[0m\u001b[1;33m:\u001b[0m\u001b[1;33m//\u001b[0m\u001b[0mjmlr\u001b[0m\u001b[1;33m.\u001b[0m\u001b[0mcsail\u001b[0m\u001b[1;33m.\u001b[0m\u001b[0mmit\u001b[0m\u001b[1;33m.\u001b[0m\u001b[0medu\u001b[0m\u001b[1;33m/\u001b[0m\u001b[0mpapers\u001b[0m\u001b[1;33m/\u001b[0m\u001b[0mvolume2\u001b[0m\u001b[1;33m/\u001b[0m\u001b[0mzhang02c\u001b[0m\u001b[1;33m/\u001b[0m\u001b[0mzhang02c\u001b[0m\u001b[1;33m.\u001b[0m\u001b[0mpdf\u001b[0m\u001b[1;33m\u001b[0m\u001b[0m\n\u001b[0;32m    825\u001b[0m         \"\"\"\n\u001b[1;32m--> 826\u001b[1;33m         \u001b[0mself\u001b[0m\u001b[1;33m.\u001b[0m\u001b[0m_check_proba\u001b[0m\u001b[1;33m(\u001b[0m\u001b[1;33m)\u001b[0m\u001b[1;33m\u001b[0m\u001b[0m\n\u001b[0m\u001b[0;32m    827\u001b[0m         \u001b[1;32mreturn\u001b[0m \u001b[0mself\u001b[0m\u001b[1;33m.\u001b[0m\u001b[0m_predict_proba\u001b[0m\u001b[1;33m\u001b[0m\u001b[0m\n\u001b[0;32m    828\u001b[0m \u001b[1;33m\u001b[0m\u001b[0m\n",
      "\u001b[1;32mC:\\ProgramData\\Anaconda2\\lib\\site-packages\\sklearn\\linear_model\\stochastic_gradient.pyc\u001b[0m in \u001b[0;36m_check_proba\u001b[1;34m(self)\u001b[0m\n\u001b[0;32m    786\u001b[0m         \u001b[1;32mif\u001b[0m \u001b[0mself\u001b[0m\u001b[1;33m.\u001b[0m\u001b[0mloss\u001b[0m \u001b[1;32mnot\u001b[0m \u001b[1;32min\u001b[0m \u001b[1;33m(\u001b[0m\u001b[1;34m\"log\"\u001b[0m\u001b[1;33m,\u001b[0m \u001b[1;34m\"modified_huber\"\u001b[0m\u001b[1;33m)\u001b[0m\u001b[1;33m:\u001b[0m\u001b[1;33m\u001b[0m\u001b[0m\n\u001b[0;32m    787\u001b[0m             raise AttributeError(\"probability estimates are not available for\"\n\u001b[1;32m--> 788\u001b[1;33m                                  \" loss=%r\" % self.loss)\n\u001b[0m\u001b[0;32m    789\u001b[0m \u001b[1;33m\u001b[0m\u001b[0m\n\u001b[0;32m    790\u001b[0m     \u001b[1;33m@\u001b[0m\u001b[0mproperty\u001b[0m\u001b[1;33m\u001b[0m\u001b[0m\n",
      "\u001b[1;31mAttributeError\u001b[0m: probability estimates are not available for loss='squared_epsilon_insensitive'"
     ]
    }
   ],
   "source": [
    "sgd = linear_model.SGDClassifier(loss='squared_epsilon_insensitive')\n",
    "sgd.fit(X_train,y_train)\n",
    "y_pred = sgd.predict(X_test)\n",
    "\n",
    "print metrics.accuracy_score(y_test, y_pred)\n",
    "\n",
    "y_prob = sgd.predict_proba(X_test)\n",
    "eval_probs(y_prob,y_test, [-1, 0, 1])"
   ]
  },
  {
   "cell_type": "code",
   "execution_count": 18,
   "metadata": {
    "scrolled": false
   },
   "outputs": [
    {
     "name": "stdout",
     "output_type": "stream",
     "text": [
      "0.596903069378\n"
     ]
    },
    {
     "data": {
      "image/png": "[encoded data removed]",
      "text/plain": [
       "<matplotlib.figure.Figure at 0x7ff15be92550>"
      ]
     },
     "metadata": {},
     "output_type": "display_data"
    },
    {
     "data": {
      "image/png": "[encoded data removed]",
      "text/plain": [
       "<matplotlib.figure.Figure at 0x7ff161a87850>"
      ]
     },
     "metadata": {},
     "output_type": "display_data"
    },
    {
     "data": {
      "image/png": "[encoded data removed]",
      "text/plain": [
       "<matplotlib.figure.Figure at 0x7ff1618e2350>"
      ]
     },
     "metadata": {},
     "output_type": "display_data"
    },
    {
     "name": "stdout",
     "output_type": "stream",
     "text": [
      "0.580371411253\n"
     ]
    },
    {
     "data": {
      "image/png": "[encoded data removed]",
      "text/plain": [
       "<matplotlib.figure.Figure at 0x7ff161984810>"
      ]
     },
     "metadata": {},
     "output_type": "display_data"
    },
    {
     "data": {
      "image/png": "[encoded data removed]",
      "text/plain": [
       "<matplotlib.figure.Figure at 0x7ff1615fc850>"
      ]
     },
     "metadata": {},
     "output_type": "display_data"
    },
    {
     "data": {
      "image/png": "[encoded data removed]",
      "text/plain": [
       "<matplotlib.figure.Figure at 0x7ff161754ad0>"
      ]
     },
     "metadata": {},
     "output_type": "display_data"
    }
   ],
   "source": [
    "\n",
    "for weight in ['uniform', 'distance']:\n",
    "\n",
    "    neigh = KNN(n_neighbors=3, algorithm='kd_tree', weights=weight, n_jobs=-1)\n",
    "    neigh.fit(X_train, y_train) \n",
    "    \n",
    "    y_pred = neigh.predict(X_test)\n",
    "\n",
    "    print metrics.accuracy_score(y_test, y_pred)\n",
    "\n",
    "    y_prob = neigh.predict_proba(X_test)\n",
    "    eval_probs(y_prob, y_test, [-1,0,1])    \n",
    "    \n",
    "    \n",
    "#     save_model(neigh, \"KNN\"+weight)"
   ]
  },
  {
   "cell_type": "code",
   "execution_count": null,
   "metadata": {
    "collapsed": true
   },
   "outputs": [],
   "source": []
  }
 ],
 "metadata": {
  "kernelspec": {
   "display_name": "Python 2",
   "language": "python",
   "name": "python2"
  },
  "language_info": {
   "codemirror_mode": {
    "name": "ipython",
    "version": 2
   },
   "file_extension": ".py",
   "mimetype": "text/x-python",
   "name": "python",
   "nbconvert_exporter": "python",
   "pygments_lexer": "ipython2",
   "version": "2.7.12"
  }
 },
 "nbformat": 4,
 "nbformat_minor": 2
}
